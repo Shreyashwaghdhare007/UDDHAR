{
  "cells": [
    {
      "cell_type": "markdown",
      "source": [
        "# **Problem Statement:**"
      ],
      "metadata": {
        "id": "OiHQ0ILSM5CA"
      }
    },
    {
      "cell_type": "markdown",
      "source": [
        "Recurrent neural network (RNN) Use the Google stock prices dataset and design a time\n",
        "seriesanalysis and prediction system using RNN.\n"
      ],
      "metadata": {
        "id": "8QYL10xNNOdc"
      }
    },
    {
      "cell_type": "markdown",
      "source": [
        "Import the libraries:"
      ],
      "metadata": {
        "id": "JntSJDsmNedE"
      }
    },
    {
      "metadata": {
        "_uuid": "8f2839f25d086af736a60e9eeb907d3b93b6e0e5",
        "_cell_guid": "b1076dfc-b9ad-4769-8c92-a6c4dae69d19",
        "trusted": true,
        "id": "j4caLPQiYXMU"
      },
      "cell_type": "code",
      "source": [
        "# This Python 3 environment comes with many helpful analytics libraries installed\n",
        "# It is defined by the kaggle/python docker image: https://github.com/kaggle/docker-python\n",
        "# For example, here's several helpful packages to load in \n",
        "\n",
        "import numpy as np # linear algebra\n",
        "import pandas as pd # data processing, CSV file I/O (e.g. pd.read_csv)\n",
        "import matplotlib.pyplot as plt\n",
        "import tensorflow as tf\n",
        "\n",
        "# Input data files are available in the \"../input/\" directory.\n",
        "# For example, running this (by clicking run or pressing Shift+Enter) will list the files in the input directory\n",
        "\n",
        "import os\n",
        "# print(os.listdir(\"../input\"))\n",
        "\n",
        "# Any results you write to the current directory are saved as output."
      ],
      "execution_count": 1,
      "outputs": []
    },
    {
      "cell_type": "markdown",
      "source": [
        "# **Loading the dataset:**"
      ],
      "metadata": {
        "id": "seGmtV50xYXS"
      }
    },
    {
      "metadata": {
        "_cell_guid": "79c7e3d0-c299-4dcb-8224-4455121ee9b0",
        "_uuid": "d629ff2d2480ee46fbb7e2d37f6b5fab8052498a",
        "trusted": true,
        "id": "1jPuRcl4YXMV"
      },
      "cell_type": "code",
      "source": [
        "dataset_train = pd.read_csv(\"/content/trainset.csv\")"
      ],
      "execution_count": 2,
      "outputs": []
    },
    {
      "metadata": {
        "trusted": true,
        "_uuid": "9de88d689da1a279477470f6cef999c0a45bf98a",
        "id": "2XhPmx0wYXMW",
        "colab": {
          "base_uri": "https://localhost:8080/",
          "height": 423
        },
        "outputId": "17de5aae-0893-44ff-8d2e-7223d2e9fa9a"
      },
      "cell_type": "code",
      "source": [
        "dataset_train"
      ],
      "execution_count": 3,
      "outputs": [
        {
          "output_type": "execute_result",
          "data": {
            "text/plain": [
              "            Date         Open         High          Low        Close  \\\n",
              "0     2013-01-02   357.385559   361.151062   355.959839   359.288177   \n",
              "1     2013-01-03   360.122742   363.600128   358.031342   359.496826   \n",
              "2     2013-01-04   362.313507   368.339294   361.488861   366.600616   \n",
              "3     2013-01-07   365.348755   367.301056   362.929504   365.001007   \n",
              "4     2013-01-08   365.393463   365.771027   359.874359   364.280701   \n",
              "...          ...          ...          ...          ...          ...   \n",
              "1254  2017-12-22  1061.109985  1064.199951  1059.439941  1060.119995   \n",
              "1255  2017-12-26  1058.069946  1060.119995  1050.199951  1056.739990   \n",
              "1256  2017-12-27  1057.390015  1058.369995  1048.050049  1049.369995   \n",
              "1257  2017-12-28  1051.599976  1054.750000  1044.770020  1048.140015   \n",
              "1258  2017-12-29  1046.719971  1049.699951  1044.900024  1046.400024   \n",
              "\n",
              "        Adj Close   Volume  \n",
              "0      359.288177  5115500  \n",
              "1      359.496826  4666500  \n",
              "2      366.600616  5562800  \n",
              "3      365.001007  3332900  \n",
              "4      364.280701  3373900  \n",
              "...           ...      ...  \n",
              "1254  1060.119995   755100  \n",
              "1255  1056.739990   760600  \n",
              "1256  1049.369995  1271900  \n",
              "1257  1048.140015   837100  \n",
              "1258  1046.400024   887500  \n",
              "\n",
              "[1259 rows x 7 columns]"
            ],
            "text/html": [
              "\n",
              "  <div id=\"df-42a9680a-b5e8-40e8-8953-21056ccecb2a\">\n",
              "    <div class=\"colab-df-container\">\n",
              "      <div>\n",
              "<style scoped>\n",
              "    .dataframe tbody tr th:only-of-type {\n",
              "        vertical-align: middle;\n",
              "    }\n",
              "\n",
              "    .dataframe tbody tr th {\n",
              "        vertical-align: top;\n",
              "    }\n",
              "\n",
              "    .dataframe thead th {\n",
              "        text-align: right;\n",
              "    }\n",
              "</style>\n",
              "<table border=\"1\" class=\"dataframe\">\n",
              "  <thead>\n",
              "    <tr style=\"text-align: right;\">\n",
              "      <th></th>\n",
              "      <th>Date</th>\n",
              "      <th>Open</th>\n",
              "      <th>High</th>\n",
              "      <th>Low</th>\n",
              "      <th>Close</th>\n",
              "      <th>Adj Close</th>\n",
              "      <th>Volume</th>\n",
              "    </tr>\n",
              "  </thead>\n",
              "  <tbody>\n",
              "    <tr>\n",
              "      <th>0</th>\n",
              "      <td>2013-01-02</td>\n",
              "      <td>357.385559</td>\n",
              "      <td>361.151062</td>\n",
              "      <td>355.959839</td>\n",
              "      <td>359.288177</td>\n",
              "      <td>359.288177</td>\n",
              "      <td>5115500</td>\n",
              "    </tr>\n",
              "    <tr>\n",
              "      <th>1</th>\n",
              "      <td>2013-01-03</td>\n",
              "      <td>360.122742</td>\n",
              "      <td>363.600128</td>\n",
              "      <td>358.031342</td>\n",
              "      <td>359.496826</td>\n",
              "      <td>359.496826</td>\n",
              "      <td>4666500</td>\n",
              "    </tr>\n",
              "    <tr>\n",
              "      <th>2</th>\n",
              "      <td>2013-01-04</td>\n",
              "      <td>362.313507</td>\n",
              "      <td>368.339294</td>\n",
              "      <td>361.488861</td>\n",
              "      <td>366.600616</td>\n",
              "      <td>366.600616</td>\n",
              "      <td>5562800</td>\n",
              "    </tr>\n",
              "    <tr>\n",
              "      <th>3</th>\n",
              "      <td>2013-01-07</td>\n",
              "      <td>365.348755</td>\n",
              "      <td>367.301056</td>\n",
              "      <td>362.929504</td>\n",
              "      <td>365.001007</td>\n",
              "      <td>365.001007</td>\n",
              "      <td>3332900</td>\n",
              "    </tr>\n",
              "    <tr>\n",
              "      <th>4</th>\n",
              "      <td>2013-01-08</td>\n",
              "      <td>365.393463</td>\n",
              "      <td>365.771027</td>\n",
              "      <td>359.874359</td>\n",
              "      <td>364.280701</td>\n",
              "      <td>364.280701</td>\n",
              "      <td>3373900</td>\n",
              "    </tr>\n",
              "    <tr>\n",
              "      <th>...</th>\n",
              "      <td>...</td>\n",
              "      <td>...</td>\n",
              "      <td>...</td>\n",
              "      <td>...</td>\n",
              "      <td>...</td>\n",
              "      <td>...</td>\n",
              "      <td>...</td>\n",
              "    </tr>\n",
              "    <tr>\n",
              "      <th>1254</th>\n",
              "      <td>2017-12-22</td>\n",
              "      <td>1061.109985</td>\n",
              "      <td>1064.199951</td>\n",
              "      <td>1059.439941</td>\n",
              "      <td>1060.119995</td>\n",
              "      <td>1060.119995</td>\n",
              "      <td>755100</td>\n",
              "    </tr>\n",
              "    <tr>\n",
              "      <th>1255</th>\n",
              "      <td>2017-12-26</td>\n",
              "      <td>1058.069946</td>\n",
              "      <td>1060.119995</td>\n",
              "      <td>1050.199951</td>\n",
              "      <td>1056.739990</td>\n",
              "      <td>1056.739990</td>\n",
              "      <td>760600</td>\n",
              "    </tr>\n",
              "    <tr>\n",
              "      <th>1256</th>\n",
              "      <td>2017-12-27</td>\n",
              "      <td>1057.390015</td>\n",
              "      <td>1058.369995</td>\n",
              "      <td>1048.050049</td>\n",
              "      <td>1049.369995</td>\n",
              "      <td>1049.369995</td>\n",
              "      <td>1271900</td>\n",
              "    </tr>\n",
              "    <tr>\n",
              "      <th>1257</th>\n",
              "      <td>2017-12-28</td>\n",
              "      <td>1051.599976</td>\n",
              "      <td>1054.750000</td>\n",
              "      <td>1044.770020</td>\n",
              "      <td>1048.140015</td>\n",
              "      <td>1048.140015</td>\n",
              "      <td>837100</td>\n",
              "    </tr>\n",
              "    <tr>\n",
              "      <th>1258</th>\n",
              "      <td>2017-12-29</td>\n",
              "      <td>1046.719971</td>\n",
              "      <td>1049.699951</td>\n",
              "      <td>1044.900024</td>\n",
              "      <td>1046.400024</td>\n",
              "      <td>1046.400024</td>\n",
              "      <td>887500</td>\n",
              "    </tr>\n",
              "  </tbody>\n",
              "</table>\n",
              "<p>1259 rows × 7 columns</p>\n",
              "</div>\n",
              "      <button class=\"colab-df-convert\" onclick=\"convertToInteractive('df-42a9680a-b5e8-40e8-8953-21056ccecb2a')\"\n",
              "              title=\"Convert this dataframe to an interactive table.\"\n",
              "              style=\"display:none;\">\n",
              "        \n",
              "  <svg xmlns=\"http://www.w3.org/2000/svg\" height=\"24px\"viewBox=\"0 0 24 24\"\n",
              "       width=\"24px\">\n",
              "    <path d=\"M0 0h24v24H0V0z\" fill=\"none\"/>\n",
              "    <path d=\"M18.56 5.44l.94 2.06.94-2.06 2.06-.94-2.06-.94-.94-2.06-.94 2.06-2.06.94zm-11 1L8.5 8.5l.94-2.06 2.06-.94-2.06-.94L8.5 2.5l-.94 2.06-2.06.94zm10 10l.94 2.06.94-2.06 2.06-.94-2.06-.94-.94-2.06-.94 2.06-2.06.94z\"/><path d=\"M17.41 7.96l-1.37-1.37c-.4-.4-.92-.59-1.43-.59-.52 0-1.04.2-1.43.59L10.3 9.45l-7.72 7.72c-.78.78-.78 2.05 0 2.83L4 21.41c.39.39.9.59 1.41.59.51 0 1.02-.2 1.41-.59l7.78-7.78 2.81-2.81c.8-.78.8-2.07 0-2.86zM5.41 20L4 18.59l7.72-7.72 1.47 1.35L5.41 20z\"/>\n",
              "  </svg>\n",
              "      </button>\n",
              "      \n",
              "  <style>\n",
              "    .colab-df-container {\n",
              "      display:flex;\n",
              "      flex-wrap:wrap;\n",
              "      gap: 12px;\n",
              "    }\n",
              "\n",
              "    .colab-df-convert {\n",
              "      background-color: #E8F0FE;\n",
              "      border: none;\n",
              "      border-radius: 50%;\n",
              "      cursor: pointer;\n",
              "      display: none;\n",
              "      fill: #1967D2;\n",
              "      height: 32px;\n",
              "      padding: 0 0 0 0;\n",
              "      width: 32px;\n",
              "    }\n",
              "\n",
              "    .colab-df-convert:hover {\n",
              "      background-color: #E2EBFA;\n",
              "      box-shadow: 0px 1px 2px rgba(60, 64, 67, 0.3), 0px 1px 3px 1px rgba(60, 64, 67, 0.15);\n",
              "      fill: #174EA6;\n",
              "    }\n",
              "\n",
              "    [theme=dark] .colab-df-convert {\n",
              "      background-color: #3B4455;\n",
              "      fill: #D2E3FC;\n",
              "    }\n",
              "\n",
              "    [theme=dark] .colab-df-convert:hover {\n",
              "      background-color: #434B5C;\n",
              "      box-shadow: 0px 1px 3px 1px rgba(0, 0, 0, 0.15);\n",
              "      filter: drop-shadow(0px 1px 2px rgba(0, 0, 0, 0.3));\n",
              "      fill: #FFFFFF;\n",
              "    }\n",
              "  </style>\n",
              "\n",
              "      <script>\n",
              "        const buttonEl =\n",
              "          document.querySelector('#df-42a9680a-b5e8-40e8-8953-21056ccecb2a button.colab-df-convert');\n",
              "        buttonEl.style.display =\n",
              "          google.colab.kernel.accessAllowed ? 'block' : 'none';\n",
              "\n",
              "        async function convertToInteractive(key) {\n",
              "          const element = document.querySelector('#df-42a9680a-b5e8-40e8-8953-21056ccecb2a');\n",
              "          const dataTable =\n",
              "            await google.colab.kernel.invokeFunction('convertToInteractive',\n",
              "                                                     [key], {});\n",
              "          if (!dataTable) return;\n",
              "\n",
              "          const docLinkHtml = 'Like what you see? Visit the ' +\n",
              "            '<a target=\"_blank\" href=https://colab.research.google.com/notebooks/data_table.ipynb>data table notebook</a>'\n",
              "            + ' to learn more about interactive tables.';\n",
              "          element.innerHTML = '';\n",
              "          dataTable['output_type'] = 'display_data';\n",
              "          await google.colab.output.renderOutput(dataTable, element);\n",
              "          const docLink = document.createElement('div');\n",
              "          docLink.innerHTML = docLinkHtml;\n",
              "          element.appendChild(docLink);\n",
              "        }\n",
              "      </script>\n",
              "    </div>\n",
              "  </div>\n",
              "  "
            ]
          },
          "metadata": {},
          "execution_count": 3
        }
      ]
    },
    {
      "metadata": {
        "trusted": true,
        "_uuid": "99cca4c05240bd82c4492c6c3c200925c5c096e5",
        "id": "_fu0sKICYXMW"
      },
      "cell_type": "code",
      "source": [
        "trainset = dataset_train.iloc[:,1:2].values"
      ],
      "execution_count": 4,
      "outputs": []
    },
    {
      "metadata": {
        "trusted": true,
        "_uuid": "1f00141023a0cc15593c8ef1351883177ca3ba21",
        "id": "YstcOpMUYXMW",
        "colab": {
          "base_uri": "https://localhost:8080/"
        },
        "outputId": "e75a3b80-7e70-4c3a-e0c5-2a6f019e00da"
      },
      "cell_type": "code",
      "source": [
        "trainset"
      ],
      "execution_count": 5,
      "outputs": [
        {
          "output_type": "execute_result",
          "data": {
            "text/plain": [
              "array([[ 357.385559],\n",
              "       [ 360.122742],\n",
              "       [ 362.313507],\n",
              "       ...,\n",
              "       [1057.390015],\n",
              "       [1051.599976],\n",
              "       [1046.719971]])"
            ]
          },
          "metadata": {},
          "execution_count": 5
        }
      ]
    },
    {
      "metadata": {
        "trusted": true,
        "_uuid": "1abc6fe47fb5c4443767a2e2053cf9999c8a9a5c",
        "id": "5AMIMqS6YXMW"
      },
      "cell_type": "code",
      "source": [
        "from sklearn.preprocessing import MinMaxScaler\n",
        "sc = MinMaxScaler(feature_range = (0,1))\n",
        "training_scaled = sc.fit_transform(trainset)"
      ],
      "execution_count": 6,
      "outputs": []
    },
    {
      "metadata": {
        "trusted": true,
        "_uuid": "15362ed79df83c13fbddff1889a71f21e968fbc2",
        "id": "tXxRmKVDYXMX",
        "colab": {
          "base_uri": "https://localhost:8080/"
        },
        "outputId": "812def39-b980-418f-c797-7b02a83b0a84"
      },
      "cell_type": "code",
      "source": [
        "training_scaled"
      ],
      "execution_count": 7,
      "outputs": [
        {
          "output_type": "execute_result",
          "data": {
            "text/plain": [
              "array([[0.01011148],\n",
              "       [0.01388614],\n",
              "       [0.01690727],\n",
              "       ...,\n",
              "       [0.97543954],\n",
              "       [0.9674549 ],\n",
              "       [0.96072522]])"
            ]
          },
          "metadata": {},
          "execution_count": 7
        }
      ]
    },
    {
      "metadata": {
        "trusted": true,
        "_uuid": "d0d549e9a4af9ab516c3304fb44d650a815dcedc",
        "id": "VgMTczYOYXMX"
      },
      "cell_type": "code",
      "source": [
        "x_train = []\n",
        "y_train = []"
      ],
      "execution_count": 9,
      "outputs": []
    },
    {
      "metadata": {
        "trusted": true,
        "_uuid": "4c4f8ba0c635e7da0ba1bc52abf0a42068acdc89",
        "id": "iadhvdMmYXMX"
      },
      "cell_type": "code",
      "source": [
        "for i in range(60,1259):\n",
        "    x_train.append(training_scaled[i-60:i, 0])\n",
        "    y_train.append(training_scaled[i,0])\n",
        "x_train,y_train = np.array(x_train),np.array(y_train)"
      ],
      "execution_count": 10,
      "outputs": []
    },
    {
      "metadata": {
        "trusted": true,
        "_uuid": "360eb79902c77fbba3f16ab47a5ff7593a177478",
        "id": "o_mbXoOpYXMX",
        "colab": {
          "base_uri": "https://localhost:8080/"
        },
        "outputId": "b68b920f-cbb1-44f3-d37f-3da80f59225d"
      },
      "cell_type": "code",
      "source": [
        "x_train.shape"
      ],
      "execution_count": 11,
      "outputs": [
        {
          "output_type": "execute_result",
          "data": {
            "text/plain": [
              "(1199, 60)"
            ]
          },
          "metadata": {},
          "execution_count": 11
        }
      ]
    },
    {
      "metadata": {
        "trusted": true,
        "_uuid": "316c5775b5c0a984b432f138792d2c0e9a484491",
        "id": "boesiCC7YXMX"
      },
      "cell_type": "code",
      "source": [
        "x_train = np.reshape(x_train, (x_train.shape[0],x_train.shape[1],1))"
      ],
      "execution_count": 12,
      "outputs": []
    },
    {
      "metadata": {
        "trusted": true,
        "_uuid": "28f5242c6f1961914d1f568e70228fd30c1cb7fa",
        "id": "6V7HrGorYXMX"
      },
      "cell_type": "code",
      "source": [
        "from keras.models import Sequential\n",
        "from keras.layers import Dense\n",
        "from keras.layers import LSTM\n",
        "from keras.layers import Dropout"
      ],
      "execution_count": 13,
      "outputs": []
    },
    {
      "metadata": {
        "trusted": true,
        "_uuid": "ed24d733423254641f134c0e84f44a8ce175589f",
        "id": "GRTPJQ-YYXMY"
      },
      "cell_type": "code",
      "source": [
        "regressor = Sequential()\n",
        "regressor.add(LSTM(units = 50,return_sequences = True,input_shape = (x_train.shape[1],1)))"
      ],
      "execution_count": 14,
      "outputs": []
    },
    {
      "metadata": {
        "trusted": true,
        "_uuid": "e7b3dd133e58cb2acc860a8cfcd1483ba70e6b1b",
        "id": "97Jzr2OkYXMY"
      },
      "cell_type": "code",
      "source": [
        "regressor.add(Dropout(0.2))"
      ],
      "execution_count": 15,
      "outputs": []
    },
    {
      "metadata": {
        "trusted": true,
        "_uuid": "6b746176cb04357ac1e4c3e4c91ecd70717fed47",
        "id": "wf2-U1yRYXMY"
      },
      "cell_type": "code",
      "source": [
        "regressor.add(LSTM(units = 50,return_sequences = True))\n",
        "regressor.add(Dropout(0.2))"
      ],
      "execution_count": 16,
      "outputs": []
    },
    {
      "metadata": {
        "trusted": true,
        "_uuid": "73fe0b95d62b599e8aae4e2a53a10bc7165f464c",
        "id": "WL3Zs85pYXMY"
      },
      "cell_type": "code",
      "source": [
        "regressor.add(LSTM(units = 50,return_sequences = True))\n",
        "regressor.add(Dropout(0.2))"
      ],
      "execution_count": 17,
      "outputs": []
    },
    {
      "cell_type": "code",
      "source": [
        "regressor.add(LSTM(units = 50,return_sequences = True))\n",
        "regressor.add(Dropout(0.2))"
      ],
      "metadata": {
        "id": "udXQau5-iu-8"
      },
      "execution_count": 18,
      "outputs": []
    },
    {
      "metadata": {
        "trusted": true,
        "_uuid": "8c81a80d2ea3cdf653675def0bbba5f9572e8770",
        "id": "TSG6Iy25YXMY"
      },
      "cell_type": "code",
      "source": [
        "regressor.add(LSTM(units = 50))\n",
        "regressor.add(Dropout(0.2))"
      ],
      "execution_count": 19,
      "outputs": []
    },
    {
      "metadata": {
        "trusted": true,
        "_uuid": "2edc2684995e0033ae8a4997b61b92a66c5bceee",
        "id": "UOOqbKIJYXMY"
      },
      "cell_type": "code",
      "source": [
        "regressor.add(Dense(units = 1))"
      ],
      "execution_count": 20,
      "outputs": []
    },
    {
      "metadata": {
        "trusted": true,
        "_uuid": "6681ff55d9a29b1ad0f37cdc82318fb2c8fbc0bd",
        "id": "Aou2FjVuYXMY"
      },
      "cell_type": "code",
      "source": [
        "regressor.compile(optimizer = 'adam', loss = 'mean_squared_error')"
      ],
      "execution_count": 21,
      "outputs": []
    },
    {
      "cell_type": "code",
      "source": [
        "# regressor.compile(optimizer='adam',\n",
        "#               loss=tf.keras.losses.SparseCategoricalCrossentropy(from_logits=True),\n",
        "#               metrics=['accuracy'])"
      ],
      "metadata": {
        "id": "otnUOVS4czl6"
      },
      "execution_count": 22,
      "outputs": []
    },
    {
      "cell_type": "code",
      "source": [
        "regressor.fit(x_train,y_train,epochs = 10, batch_size = 32)"
      ],
      "metadata": {
        "id": "91PsdUgkjtQY",
        "colab": {
          "base_uri": "https://localhost:8080/"
        },
        "outputId": "a6e3af63-a200-4139-be87-284ab4b44c32"
      },
      "execution_count": 23,
      "outputs": [
        {
          "output_type": "stream",
          "name": "stdout",
          "text": [
            "Epoch 1/10\n",
            "38/38 [==============================] - 18s 171ms/step - loss: 0.0402\n",
            "Epoch 2/10\n",
            "38/38 [==============================] - 7s 195ms/step - loss: 0.0056\n",
            "Epoch 3/10\n",
            "38/38 [==============================] - 6s 164ms/step - loss: 0.0043\n",
            "Epoch 4/10\n",
            "38/38 [==============================] - 7s 197ms/step - loss: 0.0038\n",
            "Epoch 5/10\n",
            "38/38 [==============================] - 6s 163ms/step - loss: 0.0039\n",
            "Epoch 6/10\n",
            "38/38 [==============================] - 7s 197ms/step - loss: 0.0046\n",
            "Epoch 7/10\n",
            "38/38 [==============================] - 6s 164ms/step - loss: 0.0036\n",
            "Epoch 8/10\n",
            "38/38 [==============================] - 8s 198ms/step - loss: 0.0037\n",
            "Epoch 9/10\n",
            "38/38 [==============================] - 6s 163ms/step - loss: 0.0035\n",
            "Epoch 10/10\n",
            "38/38 [==============================] - 7s 198ms/step - loss: 0.0033\n"
          ]
        },
        {
          "output_type": "execute_result",
          "data": {
            "text/plain": [
              "<keras.callbacks.History at 0x7f6a21e1f160>"
            ]
          },
          "metadata": {},
          "execution_count": 23
        }
      ]
    },
    {
      "metadata": {
        "trusted": true,
        "_uuid": "b0287226b32109016b659a8ba484b5eb51e0d61a",
        "id": "ZNK5B5RsYXMY",
        "colab": {
          "base_uri": "https://localhost:8080/"
        },
        "outputId": "75640bff-3462-46af-8d40-4494b7c9e028"
      },
      "cell_type": "code",
      "source": [
        "#old\n",
        "regressor.fit(x_train,y_train,epochs = 10, batch_size = 32)"
      ],
      "execution_count": 24,
      "outputs": [
        {
          "output_type": "stream",
          "name": "stdout",
          "text": [
            "Epoch 1/10\n",
            "38/38 [==============================] - 6s 165ms/step - loss: 0.0034\n",
            "Epoch 2/10\n",
            "38/38 [==============================] - 7s 197ms/step - loss: 0.0033\n",
            "Epoch 3/10\n",
            "38/38 [==============================] - 6s 163ms/step - loss: 0.0033\n",
            "Epoch 4/10\n",
            "38/38 [==============================] - 7s 198ms/step - loss: 0.0035\n",
            "Epoch 5/10\n",
            "38/38 [==============================] - 6s 169ms/step - loss: 0.0035\n",
            "Epoch 6/10\n",
            "38/38 [==============================] - 7s 188ms/step - loss: 0.0028\n",
            "Epoch 7/10\n",
            "38/38 [==============================] - 7s 186ms/step - loss: 0.0029\n",
            "Epoch 8/10\n",
            "38/38 [==============================] - 7s 174ms/step - loss: 0.0032\n",
            "Epoch 9/10\n",
            "38/38 [==============================] - 7s 197ms/step - loss: 0.0041\n",
            "Epoch 10/10\n",
            "38/38 [==============================] - 6s 165ms/step - loss: 0.0032\n"
          ]
        },
        {
          "output_type": "execute_result",
          "data": {
            "text/plain": [
              "<keras.callbacks.History at 0x7f6a20631450>"
            ]
          },
          "metadata": {},
          "execution_count": 24
        }
      ]
    },
    {
      "metadata": {
        "trusted": true,
        "_uuid": "16e063f81273faee696d9db103673ad2b88fda50",
        "id": "vdr6LSSiYXMZ"
      },
      "cell_type": "code",
      "source": [
        "dataset_test =pd.read_csv(\"/content/testset.csv\")"
      ],
      "execution_count": 25,
      "outputs": []
    },
    {
      "metadata": {
        "trusted": true,
        "_uuid": "6acd6a66dc0f9c013ea008c0d99734697757cae6",
        "id": "X2yPEy5YYXMZ"
      },
      "cell_type": "code",
      "source": [
        "real_stock_price = dataset_test.iloc[:,1:2].values"
      ],
      "execution_count": 26,
      "outputs": []
    },
    {
      "metadata": {
        "trusted": true,
        "_uuid": "b65a0a5b78f98a5ac13dee98e9738fd61426bfd0",
        "id": "qs9Ail8LYXMZ",
        "colab": {
          "base_uri": "https://localhost:8080/"
        },
        "outputId": "c88da94c-d592-47dd-8577-8e15ed3a853c"
      },
      "cell_type": "code",
      "source": [
        "dataset_total = pd.concat((dataset_train['Open'],dataset_test['Open']),axis = 0)\n",
        "dataset_total"
      ],
      "execution_count": 27,
      "outputs": [
        {
          "output_type": "execute_result",
          "data": {
            "text/plain": [
              "0       357.385559\n",
              "1       360.122742\n",
              "2       362.313507\n",
              "3       365.348755\n",
              "4       365.393463\n",
              "          ...     \n",
              "120    1143.599976\n",
              "121    1128.000000\n",
              "122    1121.339966\n",
              "123    1102.089966\n",
              "124    1120.000000\n",
              "Name: Open, Length: 1384, dtype: float64"
            ]
          },
          "metadata": {},
          "execution_count": 27
        }
      ]
    },
    {
      "metadata": {
        "trusted": true,
        "_uuid": "31aa33ed70b08e71d0e8bfe4c1abae7901ab947d",
        "id": "YmRNOFhIYXMZ",
        "colab": {
          "base_uri": "https://localhost:8080/"
        },
        "outputId": "84d53859-0319-4364-b0bd-fa24588819dc"
      },
      "cell_type": "code",
      "source": [
        "inputs = dataset_total[len(dataset_total) - len(dataset_test)-60:].values\n",
        "inputs"
      ],
      "execution_count": 28,
      "outputs": [
        {
          "output_type": "execute_result",
          "data": {
            "text/plain": [
              "array([ 955.48999 ,  966.700012,  980.      ,  980.      ,  973.719971,\n",
              "        987.450012,  992.      ,  992.099976,  990.289978,  991.77002 ,\n",
              "        986.      ,  989.440002,  989.52002 ,  970.      ,  968.369995,\n",
              "        980.      , 1009.190002, 1014.      , 1015.219971, 1017.210022,\n",
              "       1021.76001 , 1022.109985, 1028.98999 , 1027.27002 , 1030.52002 ,\n",
              "       1033.98999 , 1026.459961, 1023.419983, 1022.590027, 1019.210022,\n",
              "       1022.52002 , 1034.01001 , 1020.26001 , 1023.309998, 1035.      ,\n",
              "       1035.869995, 1040.      , 1055.089966, 1042.680054, 1022.369995,\n",
              "       1015.799988, 1012.659973,  995.940002, 1001.5     , 1020.429993,\n",
              "       1037.48999 , 1035.5     , 1039.630005, 1046.119995, 1045.      ,\n",
              "       1054.609985, 1066.079956, 1075.199951, 1071.780029, 1064.949951,\n",
              "       1061.109985, 1058.069946, 1057.390015, 1051.599976, 1046.719971,\n",
              "       1048.339966, 1064.310059, 1088.      , 1094.      , 1102.22998 ,\n",
              "       1109.400024, 1097.099976, 1106.300049, 1102.410034, 1132.51001 ,\n",
              "       1126.219971, 1131.410034, 1131.829956, 1137.48999 , 1159.849976,\n",
              "       1177.329956, 1172.530029, 1175.079956, 1176.47998 , 1167.829956,\n",
              "       1170.569946, 1162.609985, 1122.      , 1090.599976, 1027.180054,\n",
              "       1081.540039, 1055.410034, 1017.25    , 1048.      , 1045.      ,\n",
              "       1048.949951, 1079.069946, 1088.410034, 1090.569946, 1106.469971,\n",
              "       1116.189941, 1112.640015, 1127.800049, 1141.23999 , 1123.030029,\n",
              "       1107.869995, 1053.079956, 1075.140015, 1099.219971, 1089.189941,\n",
              "       1115.319946, 1136.      , 1163.849976, 1170.      , 1145.209961,\n",
              "       1149.959961, 1154.140015, 1120.01001 , 1099.      , 1092.73999 ,\n",
              "       1081.880005, 1047.030029, 1046.      , 1063.      ,  998.      ,\n",
              "       1011.630005, 1022.820007, 1013.909973,  993.409973, 1041.329956,\n",
              "       1020.      , 1016.799988, 1026.439941, 1027.98999 , 1025.040039,\n",
              "       1040.880005, 1037.      , 1051.369995, 1077.430054, 1069.400024,\n",
              "       1082.      , 1077.859985, 1052.      , 1025.52002 , 1029.51001 ,\n",
              "       1046.      , 1030.01001 , 1013.659973, 1028.099976, 1019.      ,\n",
              "       1016.900024, 1049.22998 , 1058.540039, 1058.099976, 1086.030029,\n",
              "       1093.599976, 1100.      , 1090.      , 1077.310059, 1079.890015,\n",
              "       1061.859985, 1074.060059, 1083.560059, 1065.130005, 1079.      ,\n",
              "       1079.02002 , 1064.890015, 1063.030029, 1067.560059, 1099.349976,\n",
              "       1122.329956, 1140.98999 , 1142.170044, 1131.319946, 1118.180054,\n",
              "       1118.599976, 1131.069946, 1141.119995, 1143.849976, 1148.859985,\n",
              "       1143.650024, 1158.5     , 1175.310059, 1174.849976, 1159.140015,\n",
              "       1143.599976, 1128.      , 1121.339966, 1102.089966, 1120.      ])"
            ]
          },
          "metadata": {},
          "execution_count": 28
        }
      ]
    },
    {
      "metadata": {
        "trusted": true,
        "_uuid": "7d74568c439acc8dda77dc4365d4b413095508e1",
        "id": "MP1nWNPZYXMZ"
      },
      "cell_type": "code",
      "source": [
        "inputs = inputs.reshape(-1,1)"
      ],
      "execution_count": 29,
      "outputs": []
    },
    {
      "metadata": {
        "trusted": true,
        "_uuid": "17b170e861d1353ece8aec66f700886106da4aef",
        "id": "livn3sRUYXMZ",
        "colab": {
          "base_uri": "https://localhost:8080/"
        },
        "outputId": "df2a2359-8e73-4fac-e678-51c268d1efd6"
      },
      "cell_type": "code",
      "source": [
        "inputs"
      ],
      "execution_count": 30,
      "outputs": [
        {
          "output_type": "execute_result",
          "data": {
            "text/plain": [
              "array([[ 955.48999 ],\n",
              "       [ 966.700012],\n",
              "       [ 980.      ],\n",
              "       [ 980.      ],\n",
              "       [ 973.719971],\n",
              "       [ 987.450012],\n",
              "       [ 992.      ],\n",
              "       [ 992.099976],\n",
              "       [ 990.289978],\n",
              "       [ 991.77002 ],\n",
              "       [ 986.      ],\n",
              "       [ 989.440002],\n",
              "       [ 989.52002 ],\n",
              "       [ 970.      ],\n",
              "       [ 968.369995],\n",
              "       [ 980.      ],\n",
              "       [1009.190002],\n",
              "       [1014.      ],\n",
              "       [1015.219971],\n",
              "       [1017.210022],\n",
              "       [1021.76001 ],\n",
              "       [1022.109985],\n",
              "       [1028.98999 ],\n",
              "       [1027.27002 ],\n",
              "       [1030.52002 ],\n",
              "       [1033.98999 ],\n",
              "       [1026.459961],\n",
              "       [1023.419983],\n",
              "       [1022.590027],\n",
              "       [1019.210022],\n",
              "       [1022.52002 ],\n",
              "       [1034.01001 ],\n",
              "       [1020.26001 ],\n",
              "       [1023.309998],\n",
              "       [1035.      ],\n",
              "       [1035.869995],\n",
              "       [1040.      ],\n",
              "       [1055.089966],\n",
              "       [1042.680054],\n",
              "       [1022.369995],\n",
              "       [1015.799988],\n",
              "       [1012.659973],\n",
              "       [ 995.940002],\n",
              "       [1001.5     ],\n",
              "       [1020.429993],\n",
              "       [1037.48999 ],\n",
              "       [1035.5     ],\n",
              "       [1039.630005],\n",
              "       [1046.119995],\n",
              "       [1045.      ],\n",
              "       [1054.609985],\n",
              "       [1066.079956],\n",
              "       [1075.199951],\n",
              "       [1071.780029],\n",
              "       [1064.949951],\n",
              "       [1061.109985],\n",
              "       [1058.069946],\n",
              "       [1057.390015],\n",
              "       [1051.599976],\n",
              "       [1046.719971],\n",
              "       [1048.339966],\n",
              "       [1064.310059],\n",
              "       [1088.      ],\n",
              "       [1094.      ],\n",
              "       [1102.22998 ],\n",
              "       [1109.400024],\n",
              "       [1097.099976],\n",
              "       [1106.300049],\n",
              "       [1102.410034],\n",
              "       [1132.51001 ],\n",
              "       [1126.219971],\n",
              "       [1131.410034],\n",
              "       [1131.829956],\n",
              "       [1137.48999 ],\n",
              "       [1159.849976],\n",
              "       [1177.329956],\n",
              "       [1172.530029],\n",
              "       [1175.079956],\n",
              "       [1176.47998 ],\n",
              "       [1167.829956],\n",
              "       [1170.569946],\n",
              "       [1162.609985],\n",
              "       [1122.      ],\n",
              "       [1090.599976],\n",
              "       [1027.180054],\n",
              "       [1081.540039],\n",
              "       [1055.410034],\n",
              "       [1017.25    ],\n",
              "       [1048.      ],\n",
              "       [1045.      ],\n",
              "       [1048.949951],\n",
              "       [1079.069946],\n",
              "       [1088.410034],\n",
              "       [1090.569946],\n",
              "       [1106.469971],\n",
              "       [1116.189941],\n",
              "       [1112.640015],\n",
              "       [1127.800049],\n",
              "       [1141.23999 ],\n",
              "       [1123.030029],\n",
              "       [1107.869995],\n",
              "       [1053.079956],\n",
              "       [1075.140015],\n",
              "       [1099.219971],\n",
              "       [1089.189941],\n",
              "       [1115.319946],\n",
              "       [1136.      ],\n",
              "       [1163.849976],\n",
              "       [1170.      ],\n",
              "       [1145.209961],\n",
              "       [1149.959961],\n",
              "       [1154.140015],\n",
              "       [1120.01001 ],\n",
              "       [1099.      ],\n",
              "       [1092.73999 ],\n",
              "       [1081.880005],\n",
              "       [1047.030029],\n",
              "       [1046.      ],\n",
              "       [1063.      ],\n",
              "       [ 998.      ],\n",
              "       [1011.630005],\n",
              "       [1022.820007],\n",
              "       [1013.909973],\n",
              "       [ 993.409973],\n",
              "       [1041.329956],\n",
              "       [1020.      ],\n",
              "       [1016.799988],\n",
              "       [1026.439941],\n",
              "       [1027.98999 ],\n",
              "       [1025.040039],\n",
              "       [1040.880005],\n",
              "       [1037.      ],\n",
              "       [1051.369995],\n",
              "       [1077.430054],\n",
              "       [1069.400024],\n",
              "       [1082.      ],\n",
              "       [1077.859985],\n",
              "       [1052.      ],\n",
              "       [1025.52002 ],\n",
              "       [1029.51001 ],\n",
              "       [1046.      ],\n",
              "       [1030.01001 ],\n",
              "       [1013.659973],\n",
              "       [1028.099976],\n",
              "       [1019.      ],\n",
              "       [1016.900024],\n",
              "       [1049.22998 ],\n",
              "       [1058.540039],\n",
              "       [1058.099976],\n",
              "       [1086.030029],\n",
              "       [1093.599976],\n",
              "       [1100.      ],\n",
              "       [1090.      ],\n",
              "       [1077.310059],\n",
              "       [1079.890015],\n",
              "       [1061.859985],\n",
              "       [1074.060059],\n",
              "       [1083.560059],\n",
              "       [1065.130005],\n",
              "       [1079.      ],\n",
              "       [1079.02002 ],\n",
              "       [1064.890015],\n",
              "       [1063.030029],\n",
              "       [1067.560059],\n",
              "       [1099.349976],\n",
              "       [1122.329956],\n",
              "       [1140.98999 ],\n",
              "       [1142.170044],\n",
              "       [1131.319946],\n",
              "       [1118.180054],\n",
              "       [1118.599976],\n",
              "       [1131.069946],\n",
              "       [1141.119995],\n",
              "       [1143.849976],\n",
              "       [1148.859985],\n",
              "       [1143.650024],\n",
              "       [1158.5     ],\n",
              "       [1175.310059],\n",
              "       [1174.849976],\n",
              "       [1159.140015],\n",
              "       [1143.599976],\n",
              "       [1128.      ],\n",
              "       [1121.339966],\n",
              "       [1102.089966],\n",
              "       [1120.      ]])"
            ]
          },
          "metadata": {},
          "execution_count": 30
        }
      ]
    },
    {
      "metadata": {
        "trusted": true,
        "_uuid": "b4003370fb6454d0493ef80b1b50ea34061de7bc",
        "id": "S-1PfMNeYXMZ",
        "colab": {
          "base_uri": "https://localhost:8080/"
        },
        "outputId": "c2583aa3-2a63-47c8-9ccc-c1d7c99df047"
      },
      "cell_type": "code",
      "source": [
        "inputs = sc.transform(inputs)\n",
        "inputs.shape"
      ],
      "execution_count": 31,
      "outputs": [
        {
          "output_type": "execute_result",
          "data": {
            "text/plain": [
              "(185, 1)"
            ]
          },
          "metadata": {},
          "execution_count": 31
        }
      ]
    },
    {
      "metadata": {
        "trusted": true,
        "_uuid": "ef076f0fdbe6ec72d85e7326c3e8aa73fcbad667",
        "id": "NMdl5twNYXMa"
      },
      "cell_type": "code",
      "source": [
        "x_test = []\n",
        "for i in range(60,185):\n",
        "    x_test.append(inputs[i-60:i,0])"
      ],
      "execution_count": 32,
      "outputs": []
    },
    {
      "metadata": {
        "trusted": true,
        "_uuid": "1fa15b6bb87ff2da8a730a6e1de20d5e5baf1571",
        "id": "rGljcm2MYXMa",
        "colab": {
          "base_uri": "https://localhost:8080/"
        },
        "outputId": "3c9d613d-114d-43d5-de8f-f2aa76bd5a07"
      },
      "cell_type": "code",
      "source": [
        "x_test = np.array(x_test)\n",
        "x_test.shape"
      ],
      "execution_count": 33,
      "outputs": [
        {
          "output_type": "execute_result",
          "data": {
            "text/plain": [
              "(125, 60)"
            ]
          },
          "metadata": {},
          "execution_count": 33
        }
      ]
    },
    {
      "metadata": {
        "trusted": true,
        "_uuid": "b244d0115671f29d46d2cb290f92e6a0fe38bc1d",
        "id": "qyzUeyDjYXMa",
        "colab": {
          "base_uri": "https://localhost:8080/"
        },
        "outputId": "3041b2eb-4649-4cb9-99a3-6d5ecd65db41"
      },
      "cell_type": "code",
      "source": [
        "x_test = np.reshape(x_test, (x_test.shape[0],x_test.shape[1],1))\n",
        "x_test.shape"
      ],
      "execution_count": 34,
      "outputs": [
        {
          "output_type": "execute_result",
          "data": {
            "text/plain": [
              "(125, 60, 1)"
            ]
          },
          "metadata": {},
          "execution_count": 34
        }
      ]
    },
    {
      "metadata": {
        "trusted": true,
        "_uuid": "24730042bdad3a140e033a78ae9b170304f8cefb",
        "id": "AGNhUNrJYXMa",
        "colab": {
          "base_uri": "https://localhost:8080/"
        },
        "outputId": "f08489e3-8230-4aa3-cf23-437db0c42f9c"
      },
      "cell_type": "code",
      "source": [
        "predicted_price = regressor.predict(x_test)"
      ],
      "execution_count": 35,
      "outputs": [
        {
          "output_type": "stream",
          "name": "stdout",
          "text": [
            "4/4 [==============================] - 3s 72ms/step\n"
          ]
        }
      ]
    },
    {
      "metadata": {
        "trusted": true,
        "_uuid": "4b06462fa06e7399373d8a552cd159176fbeef33",
        "id": "teRrrJWcYXMa",
        "colab": {
          "base_uri": "https://localhost:8080/"
        },
        "outputId": "2b8ead0a-3072-4291-b89f-72c25709b350"
      },
      "cell_type": "code",
      "source": [
        "predicted_price = sc.inverse_transform(predicted_price)\n",
        "predicted_price"
      ],
      "execution_count": 36,
      "outputs": [
        {
          "output_type": "execute_result",
          "data": {
            "text/plain": [
              "array([[1020.7926 ],\n",
              "       [1023.03705],\n",
              "       [1024.9391 ],\n",
              "       [1026.5461 ],\n",
              "       [1027.9805 ],\n",
              "       [1029.4025 ],\n",
              "       [1030.9774 ],\n",
              "       [1032.8156 ],\n",
              "       [1034.9751 ],\n",
              "       [1037.4543 ],\n",
              "       [1040.2565 ],\n",
              "       [1043.3729 ],\n",
              "       [1046.7815 ],\n",
              "       [1050.4407 ],\n",
              "       [1054.299  ],\n",
              "       [1058.331  ],\n",
              "       [1062.5563 ],\n",
              "       [1066.9967 ],\n",
              "       [1071.6569 ],\n",
              "       [1076.5109 ],\n",
              "       [1081.4862 ],\n",
              "       [1086.4814 ],\n",
              "       [1091.3707 ],\n",
              "       [1095.9547 ],\n",
              "       [1099.9591 ],\n",
              "       [1103.0012 ],\n",
              "       [1104.7953 ],\n",
              "       [1105.1661 ],\n",
              "       [1104.0005 ],\n",
              "       [1101.3202 ],\n",
              "       [1097.2697 ],\n",
              "       [1092.0934 ],\n",
              "       [1086.1467 ],\n",
              "       [1079.8545 ],\n",
              "       [1073.6436 ],\n",
              "       [1067.9144 ],\n",
              "       [1063.0103 ],\n",
              "       [1059.1719 ],\n",
              "       [1056.5469 ],\n",
              "       [1055.209  ],\n",
              "       [1055.1177 ],\n",
              "       [1056.1053 ],\n",
              "       [1057.8248 ],\n",
              "       [1059.8795 ],\n",
              "       [1061.9479 ],\n",
              "       [1063.7979 ],\n",
              "       [1065.3334 ],\n",
              "       [1066.5984 ],\n",
              "       [1067.7664 ],\n",
              "       [1069.0719 ],\n",
              "       [1070.6921 ],\n",
              "       [1072.7201 ],\n",
              "       [1075.1725 ],\n",
              "       [1077.946  ],\n",
              "       [1080.8231 ],\n",
              "       [1083.5315 ],\n",
              "       [1085.7958 ],\n",
              "       [1087.333  ],\n",
              "       [1087.9078 ],\n",
              "       [1087.4054 ],\n",
              "       [1085.7249 ],\n",
              "       [1082.8258 ],\n",
              "       [1078.7668 ],\n",
              "       [1073.6857 ],\n",
              "       [1067.7452 ],\n",
              "       [1061.205  ],\n",
              "       [1054.3522 ],\n",
              "       [1047.4583 ],\n",
              "       [1040.7708 ],\n",
              "       [1034.5028 ],\n",
              "       [1028.8118 ],\n",
              "       [1023.8264 ],\n",
              "       [1019.62915],\n",
              "       [1016.27734],\n",
              "       [1013.84216],\n",
              "       [1012.368  ],\n",
              "       [1011.87354],\n",
              "       [1012.3277 ],\n",
              "       [1013.5966 ],\n",
              "       [1015.42426],\n",
              "       [1017.502  ],\n",
              "       [1019.56274],\n",
              "       [1021.3851 ],\n",
              "       [1022.7808 ],\n",
              "       [1023.6342 ],\n",
              "       [1023.89294],\n",
              "       [1023.55084],\n",
              "       [1022.71094],\n",
              "       [1021.55817],\n",
              "       [1020.3084 ],\n",
              "       [1019.21783],\n",
              "       [1018.5404 ],\n",
              "       [1018.4914 ],\n",
              "       [1019.19543],\n",
              "       [1020.65137],\n",
              "       [1022.7592 ],\n",
              "       [1025.3278 ],\n",
              "       [1028.1434 ],\n",
              "       [1031.0251 ],\n",
              "       [1033.8074 ],\n",
              "       [1036.3752 ],\n",
              "       [1038.6636 ],\n",
              "       [1040.6245 ],\n",
              "       [1042.2179 ],\n",
              "       [1043.43   ],\n",
              "       [1044.3295 ],\n",
              "       [1045.0771 ],\n",
              "       [1045.9082 ],\n",
              "       [1047.0637 ],\n",
              "       [1048.7141 ],\n",
              "       [1050.9109 ],\n",
              "       [1053.5988 ],\n",
              "       [1056.6761 ],\n",
              "       [1060.04   ],\n",
              "       [1063.5966 ],\n",
              "       [1067.2717 ],\n",
              "       [1070.9945 ],\n",
              "       [1074.7198 ],\n",
              "       [1078.4464 ],\n",
              "       [1082.1948 ],\n",
              "       [1085.9584 ],\n",
              "       [1089.6642 ],\n",
              "       [1093.179  ],\n",
              "       [1096.3362 ],\n",
              "       [1098.9489 ]], dtype=float32)"
            ]
          },
          "metadata": {},
          "execution_count": 36
        }
      ]
    },
    {
      "cell_type": "code",
      "source": [
        "plt.plot(real_stock_price,color = 'red', label = 'Real Price')\n",
        "plt.plot(predicted_price, color = 'blue', label = 'Predicted Price')\n",
        "plt.title('Google Stock Price Prediction')\n",
        "plt.xlabel('Time')\n",
        "plt.ylabel('Google Stock Price')\n",
        "plt.legend()\n",
        "plt.show()"
      ],
      "metadata": {
        "id": "YTQjSl58k5mr",
        "colab": {
          "base_uri": "https://localhost:8080/",
          "height": 472
        },
        "outputId": "cab13dce-82e7-4cb0-ab5b-48401312695a"
      },
      "execution_count": 37,
      "outputs": [
        {
          "output_type": "display_data",
          "data": {
            "text/plain": [
              "<Figure size 640x480 with 1 Axes>"
            ],
            "image/png": "[encoded data removed]"
          },
          "metadata": {}
        }
      ]
    },
    {
      "metadata": {
        "trusted": true,
        "_uuid": "e8b30d578fafb1564da4448efb1f994537f6f588",
        "id": "5bTz9NkpYXMa",
        "colab": {
          "base_uri": "https://localhost:8080/",
          "height": 472
        },
        "outputId": "7b48fec7-58c3-470a-d79a-87bfa84be2ad"
      },
      "cell_type": "code",
      "source": [
        "#old\n",
        "plt.plot(real_stock_price,color = 'red', label = 'Real Price')\n",
        "plt.plot(predicted_price, color = 'blue', label = 'Predicted Price')\n",
        "plt.title('Google Stock Price Prediction')\n",
        "plt.xlabel('Time')\n",
        "plt.ylabel('Google Stock Price')\n",
        "plt.legend()\n",
        "plt.show()"
      ],
      "execution_count": 38,
      "outputs": [
        {
          "output_type": "display_data",
          "data": {
            "text/plain": [
              "<Figure size 640x480 with 1 Axes>"
            ],
            "image/png": "[encoded data removed]"
          },
          "metadata": {}
        }
      ]
    }
  ],
  "metadata": {
    "kernelspec": {
      "display_name": "Python 3",
      "name": "python3"
    },
    "language_info": {
      "name": "python",
      "version": "3.6.6",
      "mimetype": "text/x-python",
      "codemirror_mode": {
        "name": "ipython",
        "version": 3
      },
      "pygments_lexer": "ipython3",
      "nbconvert_exporter": "python",
      "file_extension": ".py"
    },
    "colab": {
      "provenance": [],
      "gpuType": "T4"
    },
    "accelerator": "GPU"
  },
  "nbformat": 4,
  "nbformat_minor": 0
}