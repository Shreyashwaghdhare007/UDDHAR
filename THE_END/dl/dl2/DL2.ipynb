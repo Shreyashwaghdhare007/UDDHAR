{
  "cells": [
    {
      "cell_type": "code",
      "execution_count": null,
      "id": "f1b534c9",
      "metadata": {
        "execution": {
          "iopub.execute_input": "2023-03-14T11:24:03.560969Z",
          "iopub.status.busy": "2023-03-14T11:24:03.560482Z",
          "iopub.status.idle": "2023-03-14T11:24:12.299254Z",
          "shell.execute_reply": "2023-03-14T11:24:12.298136Z"
        },
        "papermill": {
          "duration": 8.752995,
          "end_time": "2023-03-14T11:24:12.301891",
          "exception": false,
          "start_time": "2023-03-14T11:24:03.548896",
          "status": "completed"
        },
        "tags": [],
        "id": "f1b534c9"
      },
      "outputs": [],
      "source": [
        "import pandas as pd\n",
        "import numpy as np\n",
        "import matplotlib.pyplot as plt\n",
        "import seaborn as sns\n",
        "import tensorflow as tf\n",
        "\n",
        "pd.set_option('display.max_colwidth', None)"
      ]
    },
    {
      "cell_type": "code",
      "execution_count": null,
      "id": "2da4abf5",
      "metadata": {
        "_cell_guid": "b1076dfc-b9ad-4769-8c92-a6c4dae69d19",
        "_uuid": "8f2839f25d086af736a60e9eeb907d3b93b6e0e5",
        "execution": {
          "iopub.execute_input": "2023-03-14T11:24:12.323975Z",
          "iopub.status.busy": "2023-03-14T11:24:12.322536Z",
          "iopub.status.idle": "2023-03-14T11:24:13.835212Z",
          "shell.execute_reply": "2023-03-14T11:24:13.834185Z"
        },
        "papermill": {
          "duration": 1.525944,
          "end_time": "2023-03-14T11:24:13.837779",
          "exception": false,
          "start_time": "2023-03-14T11:24:12.311835",
          "status": "completed"
        },
        "tags": [],
        "id": "2da4abf5",
        "colab": {
          "base_uri": "https://localhost:8080/",
          "height": 822
        },
        "outputId": "2002dee4-ca4a-4f5b-f13e-59eb89c1529e"
      },
      "outputs": [
        {
          "output_type": "execute_result",
          "data": {
            "text/plain": [
              "                                                                                                                                                                                                                                                                                                                                                                                                                                                                                                                                                                                                                                                                                                                                                                                                                                                                                                                                                                                                                                                                                                                                                                                                                                                                                                                                                                                                                                                                                                                                                                                                                                                                                                                                                                                                                              review  \\\n",
              "0  One of the other reviewers has mentioned that after watching just 1 Oz episode you'll be hooked. They are right, as this is exactly what happened with me.<br /><br />The first thing that struck me about Oz was its brutality and unflinching scenes of violence, which set in right from the word GO. Trust me, this is not a show for the faint hearted or timid. This show pulls no punches with regards to drugs, sex or violence. Its is hardcore, in the classic use of the word.<br /><br />It is called OZ as that is the nickname given to the Oswald Maximum Security State Penitentary. It focuses mainly on Emerald City, an experimental section of the prison where all the cells have glass fronts and face inwards, so privacy is not high on the agenda. Em City is home to many..Aryans, Muslims, gangstas, Latinos, Christians, Italians, Irish and more....so scuffles, death stares, dodgy dealings and shady agreements are never far away.<br /><br />I would say the main appeal of the show is due to the fact that it goes where other shows wouldn't dare. Forget pretty pictures painted for mainstream audiences, forget charm, forget romance...OZ doesn't mess around. The first episode I ever saw struck me as so nasty it was surreal, I couldn't say I was ready for it, but as I watched more, I developed a taste for Oz, and got accustomed to the high levels of graphic violence. Not just violence, but injustice (crooked guards who'll be sold out for a nickel, inmates who'll kill on order and get away with it, well mannered, middle class inmates being turned into prison bitches due to their lack of street skills or prison experience) Watching Oz, you may become comfortable with what is uncomfortable viewing....thats if you can get in touch with your darker side.   \n",
              "1                                                                                                                                                                                                                                                                                                                                                                                                                                                                                                                                                                                                                                                                                                                                                                                             A wonderful little production. <br /><br />The filming technique is very unassuming- very old-time-BBC fashion and gives a comforting, and sometimes discomforting, sense of realism to the entire piece. <br /><br />The actors are extremely well chosen- Michael Sheen not only \"has got all the polari\" but he has all the voices down pat too! You can truly see the seamless editing guided by the references to Williams' diary entries, not only is it well worth the watching but it is a terrificly written and performed piece. A masterful production about one of the great master's of comedy and his life. <br /><br />The realism really comes home with the little things: the fantasy of the guard which, rather than use the traditional 'dream' techniques remains solid then disappears. It plays on our knowledge and our senses, particularly with the scenes concerning Orton and Halliwell and the sets (particularly of their flat with Halliwell's murals decorating every surface) are terribly well done.   \n",
              "2                                                                                                                                                                                                                                                                                                                                                                                                                                                                                                                                                                                                                                                                                                                                                                                                                                                                     I thought this was a wonderful way to spend time on a too hot summer weekend, sitting in the air conditioned theater and watching a light-hearted comedy. The plot is simplistic, but the dialogue is witty and the characters are likable (even the well bread suspected serial killer). While some may be disappointed when they realize this is not Match Point 2: Risk Addiction, I thought it was proof that Woody Allen is still fully in control of the style many of us have grown to love.<br /><br />This was the most I'd laughed at one of Woody's comedies in years (dare I say a decade?). While I've never been impressed with Scarlet Johanson, in this she managed to tone down her \"sexy\" image and jumped right into a average, but spirited young woman.<br /><br />This may not be the crown jewel of his career, but it was wittier than \"Devil Wears Prada\" and more interesting than \"Superman\" a great comedy to go see with friends.   \n",
              "3                                                                                                                                                                                                                                                                                                                                                                                                                                                                                                                                                                                                                                                                                                                                                                                                                                                                                                                                                                                                                                                       Basically there's a family where a little boy (Jake) thinks there's a zombie in his closet & his parents are fighting all the time.<br /><br />This movie is slower than a soap opera... and suddenly, Jake decides to become Rambo and kill the zombie.<br /><br />OK, first of all when you're going to make a film you must Decide if its a thriller or a drama! As a drama the movie is watchable. Parents are divorcing & arguing like in real life. And then we have Jake with his closet which totally ruins all the film! I expected to see a BOOGEYMAN similar movie, and instead i watched a drama with some meaningless thriller spots.<br /><br />3 out of 10 just for the well playing parents & descent dialogs. As for the shots with Jake: just ignore them.   \n",
              "4                                                                                                                                                                                                                                                                                                                                                                                                                                                              Petter Mattei's \"Love in the Time of Money\" is a visually stunning film to watch. Mr. Mattei offers us a vivid portrait about human relations. This is a movie that seems to be telling us what money, power and success do to people in the different situations we encounter. <br /><br />This being a variation on the Arthur Schnitzler's play about the same theme, the director transfers the action to the present time New York where all these different characters meet and connect. Each one is connected in one way, or another to the next person, but no one seems to know the previous point of contact. Stylishly, the film has a sophisticated luxurious look. We are taken to see how these people live and the world they live in their own habitat.<br /><br />The only thing one gets out of all these souls in the picture is the different stages of loneliness each one inhabits. A big city is not exactly the best place in which human relations find sincere fulfillment, as one discerns is the case with most of the people we encounter.<br /><br />The acting is good under Mr. Mattei's direction. Steve Buscemi, Rosario Dawson, Carol Kane, Michael Imperioli, Adrian Grenier, and the rest of the talented cast, make these characters come alive.<br /><br />We wish Mr. Mattei good luck and await anxiously for his next work.   \n",
              "\n",
              "  sentiment  \n",
              "0  positive  \n",
              "1  positive  \n",
              "2  positive  \n",
              "3  negative  \n",
              "4  positive  "
            ],
            "text/html": [
              "\n",
              "  <div id=\"df-3fe822f2-dc06-4629-b34f-d08d43ca9b7a\">\n",
              "    <div class=\"colab-df-container\">\n",
              "      <div>\n",
              "<style scoped>\n",
              "    .dataframe tbody tr th:only-of-type {\n",
              "        vertical-align: middle;\n",
              "    }\n",
              "\n",
              "    .dataframe tbody tr th {\n",
              "        vertical-align: top;\n",
              "    }\n",
              "\n",
              "    .dataframe thead th {\n",
              "        text-align: right;\n",
              "    }\n",
              "</style>\n",
              "<table border=\"1\" class=\"dataframe\">\n",
              "  <thead>\n",
              "    <tr style=\"text-align: right;\">\n",
              "      <th></th>\n",
              "      <th>review</th>\n",
              "      <th>sentiment</th>\n",
              "    </tr>\n",
              "  </thead>\n",
              "  <tbody>\n",
              "    <tr>\n",
              "      <th>0</th>\n",
              "      <td>One of the other reviewers has mentioned that after watching just 1 Oz episode you'll be hooked. They are right, as this is exactly what happened with me.&lt;br /&gt;&lt;br /&gt;The first thing that struck me about Oz was its brutality and unflinching scenes of violence, which set in right from the word GO. Trust me, this is not a show for the faint hearted or timid. This show pulls no punches with regards to drugs, sex or violence. Its is hardcore, in the classic use of the word.&lt;br /&gt;&lt;br /&gt;It is called OZ as that is the nickname given to the Oswald Maximum Security State Penitentary. It focuses mainly on Emerald City, an experimental section of the prison where all the cells have glass fronts and face inwards, so privacy is not high on the agenda. Em City is home to many..Aryans, Muslims, gangstas, Latinos, Christians, Italians, Irish and more....so scuffles, death stares, dodgy dealings and shady agreements are never far away.&lt;br /&gt;&lt;br /&gt;I would say the main appeal of the show is due to the fact that it goes where other shows wouldn't dare. Forget pretty pictures painted for mainstream audiences, forget charm, forget romance...OZ doesn't mess around. The first episode I ever saw struck me as so nasty it was surreal, I couldn't say I was ready for it, but as I watched more, I developed a taste for Oz, and got accustomed to the high levels of graphic violence. Not just violence, but injustice (crooked guards who'll be sold out for a nickel, inmates who'll kill on order and get away with it, well mannered, middle class inmates being turned into prison bitches due to their lack of street skills or prison experience) Watching Oz, you may become comfortable with what is uncomfortable viewing....thats if you can get in touch with your darker side.</td>\n",
              "      <td>positive</td>\n",
              "    </tr>\n",
              "    <tr>\n",
              "      <th>1</th>\n",
              "      <td>A wonderful little production. &lt;br /&gt;&lt;br /&gt;The filming technique is very unassuming- very old-time-BBC fashion and gives a comforting, and sometimes discomforting, sense of realism to the entire piece. &lt;br /&gt;&lt;br /&gt;The actors are extremely well chosen- Michael Sheen not only \"has got all the polari\" but he has all the voices down pat too! You can truly see the seamless editing guided by the references to Williams' diary entries, not only is it well worth the watching but it is a terrificly written and performed piece. A masterful production about one of the great master's of comedy and his life. &lt;br /&gt;&lt;br /&gt;The realism really comes home with the little things: the fantasy of the guard which, rather than use the traditional 'dream' techniques remains solid then disappears. It plays on our knowledge and our senses, particularly with the scenes concerning Orton and Halliwell and the sets (particularly of their flat with Halliwell's murals decorating every surface) are terribly well done.</td>\n",
              "      <td>positive</td>\n",
              "    </tr>\n",
              "    <tr>\n",
              "      <th>2</th>\n",
              "      <td>I thought this was a wonderful way to spend time on a too hot summer weekend, sitting in the air conditioned theater and watching a light-hearted comedy. The plot is simplistic, but the dialogue is witty and the characters are likable (even the well bread suspected serial killer). While some may be disappointed when they realize this is not Match Point 2: Risk Addiction, I thought it was proof that Woody Allen is still fully in control of the style many of us have grown to love.&lt;br /&gt;&lt;br /&gt;This was the most I'd laughed at one of Woody's comedies in years (dare I say a decade?). While I've never been impressed with Scarlet Johanson, in this she managed to tone down her \"sexy\" image and jumped right into a average, but spirited young woman.&lt;br /&gt;&lt;br /&gt;This may not be the crown jewel of his career, but it was wittier than \"Devil Wears Prada\" and more interesting than \"Superman\" a great comedy to go see with friends.</td>\n",
              "      <td>positive</td>\n",
              "    </tr>\n",
              "    <tr>\n",
              "      <th>3</th>\n",
              "      <td>Basically there's a family where a little boy (Jake) thinks there's a zombie in his closet &amp; his parents are fighting all the time.&lt;br /&gt;&lt;br /&gt;This movie is slower than a soap opera... and suddenly, Jake decides to become Rambo and kill the zombie.&lt;br /&gt;&lt;br /&gt;OK, first of all when you're going to make a film you must Decide if its a thriller or a drama! As a drama the movie is watchable. Parents are divorcing &amp; arguing like in real life. And then we have Jake with his closet which totally ruins all the film! I expected to see a BOOGEYMAN similar movie, and instead i watched a drama with some meaningless thriller spots.&lt;br /&gt;&lt;br /&gt;3 out of 10 just for the well playing parents &amp; descent dialogs. As for the shots with Jake: just ignore them.</td>\n",
              "      <td>negative</td>\n",
              "    </tr>\n",
              "    <tr>\n",
              "      <th>4</th>\n",
              "      <td>Petter Mattei's \"Love in the Time of Money\" is a visually stunning film to watch. Mr. Mattei offers us a vivid portrait about human relations. This is a movie that seems to be telling us what money, power and success do to people in the different situations we encounter. &lt;br /&gt;&lt;br /&gt;This being a variation on the Arthur Schnitzler's play about the same theme, the director transfers the action to the present time New York where all these different characters meet and connect. Each one is connected in one way, or another to the next person, but no one seems to know the previous point of contact. Stylishly, the film has a sophisticated luxurious look. We are taken to see how these people live and the world they live in their own habitat.&lt;br /&gt;&lt;br /&gt;The only thing one gets out of all these souls in the picture is the different stages of loneliness each one inhabits. A big city is not exactly the best place in which human relations find sincere fulfillment, as one discerns is the case with most of the people we encounter.&lt;br /&gt;&lt;br /&gt;The acting is good under Mr. Mattei's direction. Steve Buscemi, Rosario Dawson, Carol Kane, Michael Imperioli, Adrian Grenier, and the rest of the talented cast, make these characters come alive.&lt;br /&gt;&lt;br /&gt;We wish Mr. Mattei good luck and await anxiously for his next work.</td>\n",
              "      <td>positive</td>\n",
              "    </tr>\n",
              "  </tbody>\n",
              "</table>\n",
              "</div>\n",
              "      <button class=\"colab-df-convert\" onclick=\"convertToInteractive('df-3fe822f2-dc06-4629-b34f-d08d43ca9b7a')\"\n",
              "              title=\"Convert this dataframe to an interactive table.\"\n",
              "              style=\"display:none;\">\n",
              "        \n",
              "  <svg xmlns=\"http://www.w3.org/2000/svg\" height=\"24px\"viewBox=\"0 0 24 24\"\n",
              "       width=\"24px\">\n",
              "    <path d=\"M0 0h24v24H0V0z\" fill=\"none\"/>\n",
              "    <path d=\"M18.56 5.44l.94 2.06.94-2.06 2.06-.94-2.06-.94-.94-2.06-.94 2.06-2.06.94zm-11 1L8.5 8.5l.94-2.06 2.06-.94-2.06-.94L8.5 2.5l-.94 2.06-2.06.94zm10 10l.94 2.06.94-2.06 2.06-.94-2.06-.94-.94-2.06-.94 2.06-2.06.94z\"/><path d=\"M17.41 7.96l-1.37-1.37c-.4-.4-.92-.59-1.43-.59-.52 0-1.04.2-1.43.59L10.3 9.45l-7.72 7.72c-.78.78-.78 2.05 0 2.83L4 21.41c.39.39.9.59 1.41.59.51 0 1.02-.2 1.41-.59l7.78-7.78 2.81-2.81c.8-.78.8-2.07 0-2.86zM5.41 20L4 18.59l7.72-7.72 1.47 1.35L5.41 20z\"/>\n",
              "  </svg>\n",
              "      </button>\n",
              "      \n",
              "  <style>\n",
              "    .colab-df-container {\n",
              "      display:flex;\n",
              "      flex-wrap:wrap;\n",
              "      gap: 12px;\n",
              "    }\n",
              "\n",
              "    .colab-df-convert {\n",
              "      background-color: #E8F0FE;\n",
              "      border: none;\n",
              "      border-radius: 50%;\n",
              "      cursor: pointer;\n",
              "      display: none;\n",
              "      fill: #1967D2;\n",
              "      height: 32px;\n",
              "      padding: 0 0 0 0;\n",
              "      width: 32px;\n",
              "    }\n",
              "\n",
              "    .colab-df-convert:hover {\n",
              "      background-color: #E2EBFA;\n",
              "      box-shadow: 0px 1px 2px rgba(60, 64, 67, 0.3), 0px 1px 3px 1px rgba(60, 64, 67, 0.15);\n",
              "      fill: #174EA6;\n",
              "    }\n",
              "\n",
              "    [theme=dark] .colab-df-convert {\n",
              "      background-color: #3B4455;\n",
              "      fill: #D2E3FC;\n",
              "    }\n",
              "\n",
              "    [theme=dark] .colab-df-convert:hover {\n",
              "      background-color: #434B5C;\n",
              "      box-shadow: 0px 1px 3px 1px rgba(0, 0, 0, 0.15);\n",
              "      filter: drop-shadow(0px 1px 2px rgba(0, 0, 0, 0.3));\n",
              "      fill: #FFFFFF;\n",
              "    }\n",
              "  </style>\n",
              "\n",
              "      <script>\n",
              "        const buttonEl =\n",
              "          document.querySelector('#df-3fe822f2-dc06-4629-b34f-d08d43ca9b7a button.colab-df-convert');\n",
              "        buttonEl.style.display =\n",
              "          google.colab.kernel.accessAllowed ? 'block' : 'none';\n",
              "\n",
              "        async function convertToInteractive(key) {\n",
              "          const element = document.querySelector('#df-3fe822f2-dc06-4629-b34f-d08d43ca9b7a');\n",
              "          const dataTable =\n",
              "            await google.colab.kernel.invokeFunction('convertToInteractive',\n",
              "                                                     [key], {});\n",
              "          if (!dataTable) return;\n",
              "\n",
              "          const docLinkHtml = 'Like what you see? Visit the ' +\n",
              "            '<a target=\"_blank\" href=https://colab.research.google.com/notebooks/data_table.ipynb>data table notebook</a>'\n",
              "            + ' to learn more about interactive tables.';\n",
              "          element.innerHTML = '';\n",
              "          dataTable['output_type'] = 'display_data';\n",
              "          await google.colab.output.renderOutput(dataTable, element);\n",
              "          const docLink = document.createElement('div');\n",
              "          docLink.innerHTML = docLinkHtml;\n",
              "          element.appendChild(docLink);\n",
              "        }\n",
              "      </script>\n",
              "    </div>\n",
              "  </div>\n",
              "  "
            ]
          },
          "metadata": {},
          "execution_count": 9
        }
      ],
      "source": [
        "df = pd.read_csv(\"/content/IMDB Dataset.csv\")\n",
        "df.head()"
      ]
    },
    {
      "cell_type": "code",
      "execution_count": null,
      "id": "645ab607",
      "metadata": {
        "execution": {
          "iopub.execute_input": "2023-03-14T11:24:13.860648Z",
          "iopub.status.busy": "2023-03-14T11:24:13.859932Z",
          "iopub.status.idle": "2023-03-14T11:24:13.874953Z",
          "shell.execute_reply": "2023-03-14T11:24:13.873820Z"
        },
        "papermill": {
          "duration": 0.030275,
          "end_time": "2023-03-14T11:24:13.878283",
          "exception": false,
          "start_time": "2023-03-14T11:24:13.848008",
          "status": "completed"
        },
        "tags": [],
        "id": "645ab607",
        "colab": {
          "base_uri": "https://localhost:8080/",
          "height": 788
        },
        "outputId": "540238ea-42ff-4f6c-c38b-5ad04c8581b4"
      },
      "outputs": [
        {
          "output_type": "execute_result",
          "data": {
            "text/plain": [
              "                                                                                                                                                                                                                                                                                                                                                                                                                                                                                                                                                                                                                                                                                                                                                                                                                                                                                                                                                                                                                                                                                                                                                                                                                                                                                                                                                                                                                                                                              review  \\\n",
              "48075                                                                                                                                                                                                                                                                                                                                                                                                                                                                                                                                                                                                                                                                                                                                                                                  This interesting lost film (written by Terence Malick) stars Stacy Keach and Frederic Forrest as two wacky, Southern brothers on a quest to open a seafood restaurant. Margot Kidder was never prettier and Forrest should have been nominated. Originally titled The Dion Brothers, this light-hearted flick with a violent ending is a pure joy! <br /><br />Where is this film? I've been searching for it for 30 years. Keach was still great back then and I'm surprised it doesn't have more of a cult following (maybe it does). These guys are a crack-up with more ambition than brains, but totally lovable dudes!. A 7 out of 10. If you can dig it up somewhere, you'll have fun.   \n",
              "41361  Wow, I was really disappointed. I wasn't really planning on seeing this movie in the theater, and I wish I stuck to that plan. It really should be a made-for-tv movie. I was kind of excited to see it, as I'm a big fan of Fairuza Balk, but this movie didn't do her justice. Infact I'm a little disappointed with the acting all around. What a horrible cover up of Fairuza Balk's tattoos, it bothered me every time I saw her shoulder. <br /><br />There was no flow to the movie, it was very hard to get into it. One scene we get angry, hyped up, we want blood, the anticipation rises, just then the director takes us to another scene to show the love between Annie and Bobby. It would have been more enjoyable to follow if it was broken up into three sectional sunday paper comic strip.<br /><br />There was also little logic behind the characters chosen to play some parts. The gangster leaders were scrawny guys, not very believable. Matt Dillon head of a mobster organization? Come on, give me a break. There was just no intimidation there. <br /><br />The soundtrack.. wow. I think this is one of the worst musical scores I've ever heard. What awful guitar solos, my god. The sound of my teeth grinding was more pleasing to my friends, I'm sure. <br /><br />Anyhow, there is one positive comment I'd like to make about the movie. The settings were nicely done. I liked the colours, a good job conveying that time period.   \n",
              "6178         Usually when a television biopic is released on a celebrity, its, at the very least, campy (i.e. Cybill Shepherd as Martha Stewart, Lauren BaCall as Doris Duke), this is the most horrendous, cheap, and BORING television movie ever made. If VH-1 is going to make a television film, they have GOT to spend a little more money on them. Flex Alexander--though gifted with the Michael voice--is not a great dancer, does not resemble Michael one bit, and does not even have his mannerisms down. VH-1 would have done better by hiring an actual impersonator, that way when see Michael go into get plastic surgery, he doesn't actually come out looking EXACTLY the same. Why should we be taken aback at the shrinking of Michael's nose when its exactly the same size as in the beginning of the film? The woman playing Elizabeth Taylor cannot act and looks nothing like her, and don't even get me started on the woman as Janet Jackson. Terrible script and a severe case of miscasting needs to keep VH-1 from producing any more movies. Flex Alexander would have made a much better JERMAINE JACKSON rather than Michael. Costumes? Trashy ripoffs. Neverland? Spliced together footage from news docs. Don't bother with this one....its not even remotely worth it. The one good piece of casting--the actor portraying Joseph Jackson and MAYBE the actress as Lisa Marie Presley, though she should have been more tomboy than girlie girl.   \n",
              "31742                                                                                                                                                                                                                                                                                                                                                                                                                                                                                                                                                                                                                                                                                                                Seriously, if you want to see a cliché horror movie you have to see this one I guess. It contains all the \" scary parts where nothing happens \", \" the nerd type who actually isn't killed\", \" boy and girl coming together and surviving\", \"facing an old child-fear\" etc... I can go on. I wanted to see this movie cause i tought the mix of a video game and a movie would work out. Guess i was wrong. Which makes the movie more bearable? It is only 1hour17min so if you are bored it might be a good idea although i rather stay bored. Why absolutely not see it? Frankie Munitz aka Malcolm is just irritating as the nerd-type. I could smack the guy and it is so sad he didn't die earlier and in the end he even comes back. See something else!   \n",
              "18982                                                                                                                                                                                                                                                                                                                                                                                                                                                                                                                                                        Oscar Wilde's comedy of manners, perhaps the wittiest play ever written, is all but wrecked at the hands of a second-rate cast. Sanders is, as one would expect, casually, indolently brilliant in the role of Lord Darlington, but the rest of the cast makes the entire procedure a waste of time. Jean Crain attempts a stage accent in alternate sentences and the other members of the cast seem to believe this is a melodrama and not a comedy; indeed, the entire production has bookends that reduce it to tragedy -- doubtless the Hays office insisted. Preminger's direction seems to lie mostly in making sure that there are plenty of servants about and even the music seems banal. Stick with the visually perfect silent farce as directed by Lubitsch or even the 2004 screen version with Helen Hunt as Mrs. Erlynne; or try reading the play for the pleasure of the words. But skip this version.   \n",
              "\n",
              "      sentiment  \n",
              "48075  positive  \n",
              "41361  negative  \n",
              "6178   negative  \n",
              "31742  negative  \n",
              "18982  negative  "
            ],
            "text/html": [
              "\n",
              "  <div id=\"df-7ea666a5-99f0-49ee-91be-369d848362cd\">\n",
              "    <div class=\"colab-df-container\">\n",
              "      <div>\n",
              "<style scoped>\n",
              "    .dataframe tbody tr th:only-of-type {\n",
              "        vertical-align: middle;\n",
              "    }\n",
              "\n",
              "    .dataframe tbody tr th {\n",
              "        vertical-align: top;\n",
              "    }\n",
              "\n",
              "    .dataframe thead th {\n",
              "        text-align: right;\n",
              "    }\n",
              "</style>\n",
              "<table border=\"1\" class=\"dataframe\">\n",
              "  <thead>\n",
              "    <tr style=\"text-align: right;\">\n",
              "      <th></th>\n",
              "      <th>review</th>\n",
              "      <th>sentiment</th>\n",
              "    </tr>\n",
              "  </thead>\n",
              "  <tbody>\n",
              "    <tr>\n",
              "      <th>48075</th>\n",
              "      <td>This interesting lost film (written by Terence Malick) stars Stacy Keach and Frederic Forrest as two wacky, Southern brothers on a quest to open a seafood restaurant. Margot Kidder was never prettier and Forrest should have been nominated. Originally titled The Dion Brothers, this light-hearted flick with a violent ending is a pure joy! &lt;br /&gt;&lt;br /&gt;Where is this film? I've been searching for it for 30 years. Keach was still great back then and I'm surprised it doesn't have more of a cult following (maybe it does). These guys are a crack-up with more ambition than brains, but totally lovable dudes!. A 7 out of 10. If you can dig it up somewhere, you'll have fun.</td>\n",
              "      <td>positive</td>\n",
              "    </tr>\n",
              "    <tr>\n",
              "      <th>41361</th>\n",
              "      <td>Wow, I was really disappointed. I wasn't really planning on seeing this movie in the theater, and I wish I stuck to that plan. It really should be a made-for-tv movie. I was kind of excited to see it, as I'm a big fan of Fairuza Balk, but this movie didn't do her justice. Infact I'm a little disappointed with the acting all around. What a horrible cover up of Fairuza Balk's tattoos, it bothered me every time I saw her shoulder. &lt;br /&gt;&lt;br /&gt;There was no flow to the movie, it was very hard to get into it. One scene we get angry, hyped up, we want blood, the anticipation rises, just then the director takes us to another scene to show the love between Annie and Bobby. It would have been more enjoyable to follow if it was broken up into three sectional sunday paper comic strip.&lt;br /&gt;&lt;br /&gt;There was also little logic behind the characters chosen to play some parts. The gangster leaders were scrawny guys, not very believable. Matt Dillon head of a mobster organization? Come on, give me a break. There was just no intimidation there. &lt;br /&gt;&lt;br /&gt;The soundtrack.. wow. I think this is one of the worst musical scores I've ever heard. What awful guitar solos, my god. The sound of my teeth grinding was more pleasing to my friends, I'm sure. &lt;br /&gt;&lt;br /&gt;Anyhow, there is one positive comment I'd like to make about the movie. The settings were nicely done. I liked the colours, a good job conveying that time period.</td>\n",
              "      <td>negative</td>\n",
              "    </tr>\n",
              "    <tr>\n",
              "      <th>6178</th>\n",
              "      <td>Usually when a television biopic is released on a celebrity, its, at the very least, campy (i.e. Cybill Shepherd as Martha Stewart, Lauren BaCall as Doris Duke), this is the most horrendous, cheap, and BORING television movie ever made. If VH-1 is going to make a television film, they have GOT to spend a little more money on them. Flex Alexander--though gifted with the Michael voice--is not a great dancer, does not resemble Michael one bit, and does not even have his mannerisms down. VH-1 would have done better by hiring an actual impersonator, that way when see Michael go into get plastic surgery, he doesn't actually come out looking EXACTLY the same. Why should we be taken aback at the shrinking of Michael's nose when its exactly the same size as in the beginning of the film? The woman playing Elizabeth Taylor cannot act and looks nothing like her, and don't even get me started on the woman as Janet Jackson. Terrible script and a severe case of miscasting needs to keep VH-1 from producing any more movies. Flex Alexander would have made a much better JERMAINE JACKSON rather than Michael. Costumes? Trashy ripoffs. Neverland? Spliced together footage from news docs. Don't bother with this one....its not even remotely worth it. The one good piece of casting--the actor portraying Joseph Jackson and MAYBE the actress as Lisa Marie Presley, though she should have been more tomboy than girlie girl.</td>\n",
              "      <td>negative</td>\n",
              "    </tr>\n",
              "    <tr>\n",
              "      <th>31742</th>\n",
              "      <td>Seriously, if you want to see a cliché horror movie you have to see this one I guess. It contains all the \" scary parts where nothing happens \", \" the nerd type who actually isn't killed\", \" boy and girl coming together and surviving\", \"facing an old child-fear\" etc... I can go on. I wanted to see this movie cause i tought the mix of a video game and a movie would work out. Guess i was wrong. Which makes the movie more bearable? It is only 1hour17min so if you are bored it might be a good idea although i rather stay bored. Why absolutely not see it? Frankie Munitz aka Malcolm is just irritating as the nerd-type. I could smack the guy and it is so sad he didn't die earlier and in the end he even comes back. See something else!</td>\n",
              "      <td>negative</td>\n",
              "    </tr>\n",
              "    <tr>\n",
              "      <th>18982</th>\n",
              "      <td>Oscar Wilde's comedy of manners, perhaps the wittiest play ever written, is all but wrecked at the hands of a second-rate cast. Sanders is, as one would expect, casually, indolently brilliant in the role of Lord Darlington, but the rest of the cast makes the entire procedure a waste of time. Jean Crain attempts a stage accent in alternate sentences and the other members of the cast seem to believe this is a melodrama and not a comedy; indeed, the entire production has bookends that reduce it to tragedy -- doubtless the Hays office insisted. Preminger's direction seems to lie mostly in making sure that there are plenty of servants about and even the music seems banal. Stick with the visually perfect silent farce as directed by Lubitsch or even the 2004 screen version with Helen Hunt as Mrs. Erlynne; or try reading the play for the pleasure of the words. But skip this version.</td>\n",
              "      <td>negative</td>\n",
              "    </tr>\n",
              "  </tbody>\n",
              "</table>\n",
              "</div>\n",
              "      <button class=\"colab-df-convert\" onclick=\"convertToInteractive('df-7ea666a5-99f0-49ee-91be-369d848362cd')\"\n",
              "              title=\"Convert this dataframe to an interactive table.\"\n",
              "              style=\"display:none;\">\n",
              "        \n",
              "  <svg xmlns=\"http://www.w3.org/2000/svg\" height=\"24px\"viewBox=\"0 0 24 24\"\n",
              "       width=\"24px\">\n",
              "    <path d=\"M0 0h24v24H0V0z\" fill=\"none\"/>\n",
              "    <path d=\"M18.56 5.44l.94 2.06.94-2.06 2.06-.94-2.06-.94-.94-2.06-.94 2.06-2.06.94zm-11 1L8.5 8.5l.94-2.06 2.06-.94-2.06-.94L8.5 2.5l-.94 2.06-2.06.94zm10 10l.94 2.06.94-2.06 2.06-.94-2.06-.94-.94-2.06-.94 2.06-2.06.94z\"/><path d=\"M17.41 7.96l-1.37-1.37c-.4-.4-.92-.59-1.43-.59-.52 0-1.04.2-1.43.59L10.3 9.45l-7.72 7.72c-.78.78-.78 2.05 0 2.83L4 21.41c.39.39.9.59 1.41.59.51 0 1.02-.2 1.41-.59l7.78-7.78 2.81-2.81c.8-.78.8-2.07 0-2.86zM5.41 20L4 18.59l7.72-7.72 1.47 1.35L5.41 20z\"/>\n",
              "  </svg>\n",
              "      </button>\n",
              "      \n",
              "  <style>\n",
              "    .colab-df-container {\n",
              "      display:flex;\n",
              "      flex-wrap:wrap;\n",
              "      gap: 12px;\n",
              "    }\n",
              "\n",
              "    .colab-df-convert {\n",
              "      background-color: #E8F0FE;\n",
              "      border: none;\n",
              "      border-radius: 50%;\n",
              "      cursor: pointer;\n",
              "      display: none;\n",
              "      fill: #1967D2;\n",
              "      height: 32px;\n",
              "      padding: 0 0 0 0;\n",
              "      width: 32px;\n",
              "    }\n",
              "\n",
              "    .colab-df-convert:hover {\n",
              "      background-color: #E2EBFA;\n",
              "      box-shadow: 0px 1px 2px rgba(60, 64, 67, 0.3), 0px 1px 3px 1px rgba(60, 64, 67, 0.15);\n",
              "      fill: #174EA6;\n",
              "    }\n",
              "\n",
              "    [theme=dark] .colab-df-convert {\n",
              "      background-color: #3B4455;\n",
              "      fill: #D2E3FC;\n",
              "    }\n",
              "\n",
              "    [theme=dark] .colab-df-convert:hover {\n",
              "      background-color: #434B5C;\n",
              "      box-shadow: 0px 1px 3px 1px rgba(0, 0, 0, 0.15);\n",
              "      filter: drop-shadow(0px 1px 2px rgba(0, 0, 0, 0.3));\n",
              "      fill: #FFFFFF;\n",
              "    }\n",
              "  </style>\n",
              "\n",
              "      <script>\n",
              "        const buttonEl =\n",
              "          document.querySelector('#df-7ea666a5-99f0-49ee-91be-369d848362cd button.colab-df-convert');\n",
              "        buttonEl.style.display =\n",
              "          google.colab.kernel.accessAllowed ? 'block' : 'none';\n",
              "\n",
              "        async function convertToInteractive(key) {\n",
              "          const element = document.querySelector('#df-7ea666a5-99f0-49ee-91be-369d848362cd');\n",
              "          const dataTable =\n",
              "            await google.colab.kernel.invokeFunction('convertToInteractive',\n",
              "                                                     [key], {});\n",
              "          if (!dataTable) return;\n",
              "\n",
              "          const docLinkHtml = 'Like what you see? Visit the ' +\n",
              "            '<a target=\"_blank\" href=https://colab.research.google.com/notebooks/data_table.ipynb>data table notebook</a>'\n",
              "            + ' to learn more about interactive tables.';\n",
              "          element.innerHTML = '';\n",
              "          dataTable['output_type'] = 'display_data';\n",
              "          await google.colab.output.renderOutput(dataTable, element);\n",
              "          const docLink = document.createElement('div');\n",
              "          docLink.innerHTML = docLinkHtml;\n",
              "          element.appendChild(docLink);\n",
              "        }\n",
              "      </script>\n",
              "    </div>\n",
              "  </div>\n",
              "  "
            ]
          },
          "metadata": {},
          "execution_count": 10
        }
      ],
      "source": [
        "df.sample(5)"
      ]
    },
    {
      "cell_type": "code",
      "execution_count": null,
      "id": "c7b46e44",
      "metadata": {
        "execution": {
          "iopub.execute_input": "2023-03-14T11:24:13.900321Z",
          "iopub.status.busy": "2023-03-14T11:24:13.900008Z",
          "iopub.status.idle": "2023-03-14T11:24:13.906374Z",
          "shell.execute_reply": "2023-03-14T11:24:13.905236Z"
        },
        "papermill": {
          "duration": 0.019992,
          "end_time": "2023-03-14T11:24:13.908667",
          "exception": false,
          "start_time": "2023-03-14T11:24:13.888675",
          "status": "completed"
        },
        "tags": [],
        "id": "c7b46e44",
        "colab": {
          "base_uri": "https://localhost:8080/"
        },
        "outputId": "da6f663e-adef-4b13-bf73-f232413a8b98"
      },
      "outputs": [
        {
          "output_type": "execute_result",
          "data": {
            "text/plain": [
              "(50000, 2)"
            ]
          },
          "metadata": {},
          "execution_count": 11
        }
      ],
      "source": [
        "df.shape"
      ]
    },
    {
      "cell_type": "code",
      "execution_count": null,
      "id": "b8fbeea7",
      "metadata": {
        "execution": {
          "iopub.execute_input": "2023-03-14T11:24:13.930326Z",
          "iopub.status.busy": "2023-03-14T11:24:13.929946Z",
          "iopub.status.idle": "2023-03-14T11:24:14.020318Z",
          "shell.execute_reply": "2023-03-14T11:24:14.019244Z"
        },
        "papermill": {
          "duration": 0.103776,
          "end_time": "2023-03-14T11:24:14.022547",
          "exception": false,
          "start_time": "2023-03-14T11:24:13.918771",
          "status": "completed"
        },
        "tags": [],
        "id": "b8fbeea7",
        "colab": {
          "base_uri": "https://localhost:8080/",
          "height": 305
        },
        "outputId": "56a4b24c-dbd8-4c3c-cfd8-790656dd8c08"
      },
      "outputs": [
        {
          "output_type": "execute_result",
          "data": {
            "text/plain": [
              "                                                                                                                                                                                                                                                                                                                                                                                                                                                                                                                                                                                                                                                                                                                                                                                                                          review  \\\n",
              "count                                                                                                                                                                                                                                                                                                                                                                                                                                                                                                                                                                                                                                                                                                                                                                                                                      50000   \n",
              "unique                                                                                                                                                                                                                                                                                                                                                                                                                                                                                                                                                                                                                                                                                                                                                                                                                     49582   \n",
              "top     Loved today's show!!! It was a variety and not solely cooking (which would have been great too). Very stimulating and captivating, always keeping the viewer peeking around the corner to see what was coming up next. She is as down to earth and as personable as you get, like one of us which made the show all the more enjoyable. Special guests, who are friends as well made for a nice surprise too. Loved the 'first' theme and that the audience was invited to play along too. I must admit I was shocked to see her come in under her time limits on a few things, but she did it and by golly I'll be writing those recipes down. Saving time in the kitchen means more time with family. Those who haven't tuned in yet, find out what channel and the time, I assure you that you won't be disappointed.   \n",
              "freq                                                                                                                                                                                                                                                                                                                                                                                                                                                                                                                                                                                                                                                                                                                                                                                                                           5   \n",
              "\n",
              "       sentiment  \n",
              "count      50000  \n",
              "unique         2  \n",
              "top     positive  \n",
              "freq       25000  "
            ],
            "text/html": [
              "\n",
              "  <div id=\"df-a203154e-b1da-4a27-a386-91dec9a36bb6\">\n",
              "    <div class=\"colab-df-container\">\n",
              "      <div>\n",
              "<style scoped>\n",
              "    .dataframe tbody tr th:only-of-type {\n",
              "        vertical-align: middle;\n",
              "    }\n",
              "\n",
              "    .dataframe tbody tr th {\n",
              "        vertical-align: top;\n",
              "    }\n",
              "\n",
              "    .dataframe thead th {\n",
              "        text-align: right;\n",
              "    }\n",
              "</style>\n",
              "<table border=\"1\" class=\"dataframe\">\n",
              "  <thead>\n",
              "    <tr style=\"text-align: right;\">\n",
              "      <th></th>\n",
              "      <th>review</th>\n",
              "      <th>sentiment</th>\n",
              "    </tr>\n",
              "  </thead>\n",
              "  <tbody>\n",
              "    <tr>\n",
              "      <th>count</th>\n",
              "      <td>50000</td>\n",
              "      <td>50000</td>\n",
              "    </tr>\n",
              "    <tr>\n",
              "      <th>unique</th>\n",
              "      <td>49582</td>\n",
              "      <td>2</td>\n",
              "    </tr>\n",
              "    <tr>\n",
              "      <th>top</th>\n",
              "      <td>Loved today's show!!! It was a variety and not solely cooking (which would have been great too). Very stimulating and captivating, always keeping the viewer peeking around the corner to see what was coming up next. She is as down to earth and as personable as you get, like one of us which made the show all the more enjoyable. Special guests, who are friends as well made for a nice surprise too. Loved the 'first' theme and that the audience was invited to play along too. I must admit I was shocked to see her come in under her time limits on a few things, but she did it and by golly I'll be writing those recipes down. Saving time in the kitchen means more time with family. Those who haven't tuned in yet, find out what channel and the time, I assure you that you won't be disappointed.</td>\n",
              "      <td>positive</td>\n",
              "    </tr>\n",
              "    <tr>\n",
              "      <th>freq</th>\n",
              "      <td>5</td>\n",
              "      <td>25000</td>\n",
              "    </tr>\n",
              "  </tbody>\n",
              "</table>\n",
              "</div>\n",
              "      <button class=\"colab-df-convert\" onclick=\"convertToInteractive('df-a203154e-b1da-4a27-a386-91dec9a36bb6')\"\n",
              "              title=\"Convert this dataframe to an interactive table.\"\n",
              "              style=\"display:none;\">\n",
              "        \n",
              "  <svg xmlns=\"http://www.w3.org/2000/svg\" height=\"24px\"viewBox=\"0 0 24 24\"\n",
              "       width=\"24px\">\n",
              "    <path d=\"M0 0h24v24H0V0z\" fill=\"none\"/>\n",
              "    <path d=\"M18.56 5.44l.94 2.06.94-2.06 2.06-.94-2.06-.94-.94-2.06-.94 2.06-2.06.94zm-11 1L8.5 8.5l.94-2.06 2.06-.94-2.06-.94L8.5 2.5l-.94 2.06-2.06.94zm10 10l.94 2.06.94-2.06 2.06-.94-2.06-.94-.94-2.06-.94 2.06-2.06.94z\"/><path d=\"M17.41 7.96l-1.37-1.37c-.4-.4-.92-.59-1.43-.59-.52 0-1.04.2-1.43.59L10.3 9.45l-7.72 7.72c-.78.78-.78 2.05 0 2.83L4 21.41c.39.39.9.59 1.41.59.51 0 1.02-.2 1.41-.59l7.78-7.78 2.81-2.81c.8-.78.8-2.07 0-2.86zM5.41 20L4 18.59l7.72-7.72 1.47 1.35L5.41 20z\"/>\n",
              "  </svg>\n",
              "      </button>\n",
              "      \n",
              "  <style>\n",
              "    .colab-df-container {\n",
              "      display:flex;\n",
              "      flex-wrap:wrap;\n",
              "      gap: 12px;\n",
              "    }\n",
              "\n",
              "    .colab-df-convert {\n",
              "      background-color: #E8F0FE;\n",
              "      border: none;\n",
              "      border-radius: 50%;\n",
              "      cursor: pointer;\n",
              "      display: none;\n",
              "      fill: #1967D2;\n",
              "      height: 32px;\n",
              "      padding: 0 0 0 0;\n",
              "      width: 32px;\n",
              "    }\n",
              "\n",
              "    .colab-df-convert:hover {\n",
              "      background-color: #E2EBFA;\n",
              "      box-shadow: 0px 1px 2px rgba(60, 64, 67, 0.3), 0px 1px 3px 1px rgba(60, 64, 67, 0.15);\n",
              "      fill: #174EA6;\n",
              "    }\n",
              "\n",
              "    [theme=dark] .colab-df-convert {\n",
              "      background-color: #3B4455;\n",
              "      fill: #D2E3FC;\n",
              "    }\n",
              "\n",
              "    [theme=dark] .colab-df-convert:hover {\n",
              "      background-color: #434B5C;\n",
              "      box-shadow: 0px 1px 3px 1px rgba(0, 0, 0, 0.15);\n",
              "      filter: drop-shadow(0px 1px 2px rgba(0, 0, 0, 0.3));\n",
              "      fill: #FFFFFF;\n",
              "    }\n",
              "  </style>\n",
              "\n",
              "      <script>\n",
              "        const buttonEl =\n",
              "          document.querySelector('#df-a203154e-b1da-4a27-a386-91dec9a36bb6 button.colab-df-convert');\n",
              "        buttonEl.style.display =\n",
              "          google.colab.kernel.accessAllowed ? 'block' : 'none';\n",
              "\n",
              "        async function convertToInteractive(key) {\n",
              "          const element = document.querySelector('#df-a203154e-b1da-4a27-a386-91dec9a36bb6');\n",
              "          const dataTable =\n",
              "            await google.colab.kernel.invokeFunction('convertToInteractive',\n",
              "                                                     [key], {});\n",
              "          if (!dataTable) return;\n",
              "\n",
              "          const docLinkHtml = 'Like what you see? Visit the ' +\n",
              "            '<a target=\"_blank\" href=https://colab.research.google.com/notebooks/data_table.ipynb>data table notebook</a>'\n",
              "            + ' to learn more about interactive tables.';\n",
              "          element.innerHTML = '';\n",
              "          dataTable['output_type'] = 'display_data';\n",
              "          await google.colab.output.renderOutput(dataTable, element);\n",
              "          const docLink = document.createElement('div');\n",
              "          docLink.innerHTML = docLinkHtml;\n",
              "          element.appendChild(docLink);\n",
              "        }\n",
              "      </script>\n",
              "    </div>\n",
              "  </div>\n",
              "  "
            ]
          },
          "metadata": {},
          "execution_count": 13
        }
      ],
      "source": [
        "df.describe()"
      ]
    },
    {
      "cell_type": "code",
      "execution_count": null,
      "id": "b8cbe8b9",
      "metadata": {
        "execution": {
          "iopub.execute_input": "2023-03-14T11:24:14.045821Z",
          "iopub.status.busy": "2023-03-14T11:24:14.044872Z",
          "iopub.status.idle": "2023-03-14T11:24:14.054849Z",
          "shell.execute_reply": "2023-03-14T11:24:14.053765Z"
        },
        "papermill": {
          "duration": 0.02433,
          "end_time": "2023-03-14T11:24:14.057644",
          "exception": false,
          "start_time": "2023-03-14T11:24:14.033314",
          "status": "completed"
        },
        "tags": [],
        "id": "b8cbe8b9",
        "colab": {
          "base_uri": "https://localhost:8080/"
        },
        "outputId": "68e0d463-45d1-42b8-8cbf-be826ebba21e"
      },
      "outputs": [
        {
          "output_type": "execute_result",
          "data": {
            "text/plain": [
              "positive    25000\n",
              "negative    25000\n",
              "Name: sentiment, dtype: int64"
            ]
          },
          "metadata": {},
          "execution_count": 14
        }
      ],
      "source": [
        "df['sentiment'].value_counts()"
      ]
    },
    {
      "cell_type": "code",
      "execution_count": null,
      "id": "fb110356",
      "metadata": {
        "execution": {
          "iopub.execute_input": "2023-03-14T11:24:14.081073Z",
          "iopub.status.busy": "2023-03-14T11:24:14.080138Z",
          "iopub.status.idle": "2023-03-14T11:24:14.124214Z",
          "shell.execute_reply": "2023-03-14T11:24:14.123059Z"
        },
        "papermill": {
          "duration": 0.058935,
          "end_time": "2023-03-14T11:24:14.127225",
          "exception": false,
          "start_time": "2023-03-14T11:24:14.068290",
          "status": "completed"
        },
        "tags": [],
        "id": "fb110356",
        "colab": {
          "base_uri": "https://localhost:8080/",
          "height": 305
        },
        "outputId": "37ba0231-5243-4c6b-ecc7-9a46efedbc39"
      },
      "outputs": [
        {
          "output_type": "execute_result",
          "data": {
            "text/plain": [
              "                                                                                                                                                                                                                                                                                                                                                                                                                                                                                                                                                                                                                                                                                                                                                                                                                          review  \\\n",
              "count                                                                                                                                                                                                                                                                                                                                                                                                                                                                                                                                                                                                                                                                                                                                                                                                                      50000   \n",
              "unique                                                                                                                                                                                                                                                                                                                                                                                                                                                                                                                                                                                                                                                                                                                                                                                                                     49582   \n",
              "top     Loved today's show!!! It was a variety and not solely cooking (which would have been great too). Very stimulating and captivating, always keeping the viewer peeking around the corner to see what was coming up next. She is as down to earth and as personable as you get, like one of us which made the show all the more enjoyable. Special guests, who are friends as well made for a nice surprise too. Loved the 'first' theme and that the audience was invited to play along too. I must admit I was shocked to see her come in under her time limits on a few things, but she did it and by golly I'll be writing those recipes down. Saving time in the kitchen means more time with family. Those who haven't tuned in yet, find out what channel and the time, I assure you that you won't be disappointed.   \n",
              "freq                                                                                                                                                                                                                                                                                                                                                                                                                                                                                                                                                                                                                                                                                                                                                                                                                           5   \n",
              "\n",
              "       sentiment  \n",
              "count      50000  \n",
              "unique         2  \n",
              "top     positive  \n",
              "freq       25000  "
            ],
            "text/html": [
              "\n",
              "  <div id=\"df-e7a68276-3197-42d2-9c6a-537299d554ec\">\n",
              "    <div class=\"colab-df-container\">\n",
              "      <div>\n",
              "<style scoped>\n",
              "    .dataframe tbody tr th:only-of-type {\n",
              "        vertical-align: middle;\n",
              "    }\n",
              "\n",
              "    .dataframe tbody tr th {\n",
              "        vertical-align: top;\n",
              "    }\n",
              "\n",
              "    .dataframe thead th {\n",
              "        text-align: right;\n",
              "    }\n",
              "</style>\n",
              "<table border=\"1\" class=\"dataframe\">\n",
              "  <thead>\n",
              "    <tr style=\"text-align: right;\">\n",
              "      <th></th>\n",
              "      <th>review</th>\n",
              "      <th>sentiment</th>\n",
              "    </tr>\n",
              "  </thead>\n",
              "  <tbody>\n",
              "    <tr>\n",
              "      <th>count</th>\n",
              "      <td>50000</td>\n",
              "      <td>50000</td>\n",
              "    </tr>\n",
              "    <tr>\n",
              "      <th>unique</th>\n",
              "      <td>49582</td>\n",
              "      <td>2</td>\n",
              "    </tr>\n",
              "    <tr>\n",
              "      <th>top</th>\n",
              "      <td>Loved today's show!!! It was a variety and not solely cooking (which would have been great too). Very stimulating and captivating, always keeping the viewer peeking around the corner to see what was coming up next. She is as down to earth and as personable as you get, like one of us which made the show all the more enjoyable. Special guests, who are friends as well made for a nice surprise too. Loved the 'first' theme and that the audience was invited to play along too. I must admit I was shocked to see her come in under her time limits on a few things, but she did it and by golly I'll be writing those recipes down. Saving time in the kitchen means more time with family. Those who haven't tuned in yet, find out what channel and the time, I assure you that you won't be disappointed.</td>\n",
              "      <td>positive</td>\n",
              "    </tr>\n",
              "    <tr>\n",
              "      <th>freq</th>\n",
              "      <td>5</td>\n",
              "      <td>25000</td>\n",
              "    </tr>\n",
              "  </tbody>\n",
              "</table>\n",
              "</div>\n",
              "      <button class=\"colab-df-convert\" onclick=\"convertToInteractive('df-e7a68276-3197-42d2-9c6a-537299d554ec')\"\n",
              "              title=\"Convert this dataframe to an interactive table.\"\n",
              "              style=\"display:none;\">\n",
              "        \n",
              "  <svg xmlns=\"http://www.w3.org/2000/svg\" height=\"24px\"viewBox=\"0 0 24 24\"\n",
              "       width=\"24px\">\n",
              "    <path d=\"M0 0h24v24H0V0z\" fill=\"none\"/>\n",
              "    <path d=\"M18.56 5.44l.94 2.06.94-2.06 2.06-.94-2.06-.94-.94-2.06-.94 2.06-2.06.94zm-11 1L8.5 8.5l.94-2.06 2.06-.94-2.06-.94L8.5 2.5l-.94 2.06-2.06.94zm10 10l.94 2.06.94-2.06 2.06-.94-2.06-.94-.94-2.06-.94 2.06-2.06.94z\"/><path d=\"M17.41 7.96l-1.37-1.37c-.4-.4-.92-.59-1.43-.59-.52 0-1.04.2-1.43.59L10.3 9.45l-7.72 7.72c-.78.78-.78 2.05 0 2.83L4 21.41c.39.39.9.59 1.41.59.51 0 1.02-.2 1.41-.59l7.78-7.78 2.81-2.81c.8-.78.8-2.07 0-2.86zM5.41 20L4 18.59l7.72-7.72 1.47 1.35L5.41 20z\"/>\n",
              "  </svg>\n",
              "      </button>\n",
              "      \n",
              "  <style>\n",
              "    .colab-df-container {\n",
              "      display:flex;\n",
              "      flex-wrap:wrap;\n",
              "      gap: 12px;\n",
              "    }\n",
              "\n",
              "    .colab-df-convert {\n",
              "      background-color: #E8F0FE;\n",
              "      border: none;\n",
              "      border-radius: 50%;\n",
              "      cursor: pointer;\n",
              "      display: none;\n",
              "      fill: #1967D2;\n",
              "      height: 32px;\n",
              "      padding: 0 0 0 0;\n",
              "      width: 32px;\n",
              "    }\n",
              "\n",
              "    .colab-df-convert:hover {\n",
              "      background-color: #E2EBFA;\n",
              "      box-shadow: 0px 1px 2px rgba(60, 64, 67, 0.3), 0px 1px 3px 1px rgba(60, 64, 67, 0.15);\n",
              "      fill: #174EA6;\n",
              "    }\n",
              "\n",
              "    [theme=dark] .colab-df-convert {\n",
              "      background-color: #3B4455;\n",
              "      fill: #D2E3FC;\n",
              "    }\n",
              "\n",
              "    [theme=dark] .colab-df-convert:hover {\n",
              "      background-color: #434B5C;\n",
              "      box-shadow: 0px 1px 3px 1px rgba(0, 0, 0, 0.15);\n",
              "      filter: drop-shadow(0px 1px 2px rgba(0, 0, 0, 0.3));\n",
              "      fill: #FFFFFF;\n",
              "    }\n",
              "  </style>\n",
              "\n",
              "      <script>\n",
              "        const buttonEl =\n",
              "          document.querySelector('#df-e7a68276-3197-42d2-9c6a-537299d554ec button.colab-df-convert');\n",
              "        buttonEl.style.display =\n",
              "          google.colab.kernel.accessAllowed ? 'block' : 'none';\n",
              "\n",
              "        async function convertToInteractive(key) {\n",
              "          const element = document.querySelector('#df-e7a68276-3197-42d2-9c6a-537299d554ec');\n",
              "          const dataTable =\n",
              "            await google.colab.kernel.invokeFunction('convertToInteractive',\n",
              "                                                     [key], {});\n",
              "          if (!dataTable) return;\n",
              "\n",
              "          const docLinkHtml = 'Like what you see? Visit the ' +\n",
              "            '<a target=\"_blank\" href=https://colab.research.google.com/notebooks/data_table.ipynb>data table notebook</a>'\n",
              "            + ' to learn more about interactive tables.';\n",
              "          element.innerHTML = '';\n",
              "          dataTable['output_type'] = 'display_data';\n",
              "          await google.colab.output.renderOutput(dataTable, element);\n",
              "          const docLink = document.createElement('div');\n",
              "          docLink.innerHTML = docLinkHtml;\n",
              "          element.appendChild(docLink);\n",
              "        }\n",
              "      </script>\n",
              "    </div>\n",
              "  </div>\n",
              "  "
            ]
          },
          "metadata": {},
          "execution_count": 15
        }
      ],
      "source": [
        "df.describe()"
      ]
    },
    {
      "cell_type": "markdown",
      "id": "a2ee2240",
      "metadata": {
        "papermill": {
          "duration": 0.010517,
          "end_time": "2023-03-14T11:24:14.148751",
          "exception": false,
          "start_time": "2023-03-14T11:24:14.138234",
          "status": "completed"
        },
        "tags": [],
        "id": "a2ee2240"
      },
      "source": [
        "Checking for duplicates"
      ]
    },
    {
      "cell_type": "code",
      "execution_count": null,
      "id": "14597fa5",
      "metadata": {
        "execution": {
          "iopub.execute_input": "2023-03-14T11:24:14.172271Z",
          "iopub.status.busy": "2023-03-14T11:24:14.171943Z",
          "iopub.status.idle": "2023-03-14T11:24:14.349761Z",
          "shell.execute_reply": "2023-03-14T11:24:14.348597Z"
        },
        "papermill": {
          "duration": 0.193368,
          "end_time": "2023-03-14T11:24:14.353141",
          "exception": false,
          "start_time": "2023-03-14T11:24:14.159773",
          "status": "completed"
        },
        "tags": [],
        "id": "14597fa5",
        "colab": {
          "base_uri": "https://localhost:8080/"
        },
        "outputId": "c3216083-e067-4406-d81b-d3ded2a41eb9"
      },
      "outputs": [
        {
          "output_type": "stream",
          "name": "stdout",
          "text": [
            "Number of Duplicates in the Data: 418\n",
            "Number of Nulls in the Data: \n",
            " review       0\n",
            "sentiment    0\n",
            "dtype: int64\n"
          ]
        }
      ],
      "source": [
        "print(f\"Number of Duplicates in the Data: {df.duplicated().sum()}\")\n",
        "print(f\"Number of Nulls in the Data: \\n {df.isnull().sum()}\")"
      ]
    },
    {
      "cell_type": "markdown",
      "id": "0f9ec982",
      "metadata": {
        "papermill": {
          "duration": 0.010828,
          "end_time": "2023-03-14T11:24:14.376133",
          "exception": false,
          "start_time": "2023-03-14T11:24:14.365305",
          "status": "completed"
        },
        "tags": [],
        "id": "0f9ec982"
      },
      "source": [
        "## Preprocessing\n",
        "---"
      ]
    },
    {
      "cell_type": "markdown",
      "source": [],
      "metadata": {
        "id": "rFp_xNnBySM4"
      },
      "id": "rFp_xNnBySM4"
    },
    {
      "cell_type": "code",
      "execution_count": null,
      "id": "3f3e7f0d",
      "metadata": {
        "execution": {
          "iopub.execute_input": "2023-03-14T11:24:14.400751Z",
          "iopub.status.busy": "2023-03-14T11:24:14.399710Z",
          "iopub.status.idle": "2023-03-14T11:24:14.405074Z",
          "shell.execute_reply": "2023-03-14T11:24:14.404123Z"
        },
        "papermill": {
          "duration": 0.019602,
          "end_time": "2023-03-14T11:24:14.407435",
          "exception": false,
          "start_time": "2023-03-14T11:24:14.387833",
          "status": "completed"
        },
        "tags": [],
        "id": "3f3e7f0d"
      },
      "outputs": [],
      "source": [
        "X = df['review'][:10000]\n",
        "y = df['sentiment'][:10000]"
      ]
    },
    {
      "cell_type": "markdown",
      "id": "ee48891f",
      "metadata": {
        "papermill": {
          "duration": 0.010841,
          "end_time": "2023-03-14T11:24:14.428979",
          "exception": false,
          "start_time": "2023-03-14T11:24:14.418138",
          "status": "completed"
        },
        "tags": [],
        "id": "ee48891f"
      },
      "source": [
        "Label Encoding the output labels\n"
      ]
    },
    {
      "cell_type": "code",
      "execution_count": null,
      "id": "8032c2e8",
      "metadata": {
        "execution": {
          "iopub.execute_input": "2023-03-14T11:24:14.453430Z",
          "iopub.status.busy": "2023-03-14T11:24:14.452471Z",
          "iopub.status.idle": "2023-03-14T11:24:14.659490Z",
          "shell.execute_reply": "2023-03-14T11:24:14.658370Z"
        },
        "papermill": {
          "duration": 0.224309,
          "end_time": "2023-03-14T11:24:14.663948",
          "exception": false,
          "start_time": "2023-03-14T11:24:14.439639",
          "status": "completed"
        },
        "tags": [],
        "id": "8032c2e8"
      },
      "outputs": [],
      "source": [
        "from sklearn.preprocessing import LabelEncoder\n",
        "le = LabelEncoder()\n",
        "y = le.fit_transform(y)"
      ]
    },
    {
      "cell_type": "code",
      "execution_count": null,
      "id": "a44fdb17",
      "metadata": {
        "execution": {
          "iopub.execute_input": "2023-03-14T11:24:14.702057Z",
          "iopub.status.busy": "2023-03-14T11:24:14.701342Z",
          "iopub.status.idle": "2023-03-14T11:24:14.709082Z",
          "shell.execute_reply": "2023-03-14T11:24:14.708187Z"
        },
        "papermill": {
          "duration": 0.031972,
          "end_time": "2023-03-14T11:24:14.714994",
          "exception": false,
          "start_time": "2023-03-14T11:24:14.683022",
          "status": "completed"
        },
        "tags": [],
        "id": "a44fdb17",
        "colab": {
          "base_uri": "https://localhost:8080/"
        },
        "outputId": "757b0d03-ca0c-4eda-bfbb-72052c475ffb"
      },
      "outputs": [
        {
          "output_type": "execute_result",
          "data": {
            "text/plain": [
              "array([1, 1, 1, ..., 0, 0, 1])"
            ]
          },
          "metadata": {},
          "execution_count": 19
        }
      ],
      "source": [
        "y"
      ]
    },
    {
      "cell_type": "code",
      "execution_count": null,
      "id": "adba606c",
      "metadata": {
        "execution": {
          "iopub.execute_input": "2023-03-14T11:24:14.749022Z",
          "iopub.status.busy": "2023-03-14T11:24:14.748202Z",
          "iopub.status.idle": "2023-03-14T11:24:14.759045Z",
          "shell.execute_reply": "2023-03-14T11:24:14.758128Z"
        },
        "papermill": {
          "duration": 0.030626,
          "end_time": "2023-03-14T11:24:14.761949",
          "exception": false,
          "start_time": "2023-03-14T11:24:14.731323",
          "status": "completed"
        },
        "tags": [],
        "id": "adba606c",
        "colab": {
          "base_uri": "https://localhost:8080/"
        },
        "outputId": "ca1c5d21-c445-4100-87bb-72705cc3f4ef"
      },
      "outputs": [
        {
          "output_type": "execute_result",
          "data": {
            "text/plain": [
              "array(['negative', 'positive'], dtype=object)"
            ]
          },
          "metadata": {},
          "execution_count": 20
        }
      ],
      "source": [
        "le.classes_ # [0, 1]"
      ]
    },
    {
      "cell_type": "markdown",
      "id": "67622cd1",
      "metadata": {
        "papermill": {
          "duration": 0.01593,
          "end_time": "2023-03-14T11:24:14.794393",
          "exception": false,
          "start_time": "2023-03-14T11:24:14.778463",
          "status": "completed"
        },
        "tags": [],
        "id": "67622cd1"
      },
      "source": [
        "## Train Test Split\n",
        "---"
      ]
    },
    {
      "cell_type": "code",
      "execution_count": null,
      "id": "05498cf9",
      "metadata": {
        "execution": {
          "iopub.execute_input": "2023-03-14T11:24:14.828585Z",
          "iopub.status.busy": "2023-03-14T11:24:14.827999Z",
          "iopub.status.idle": "2023-03-14T11:24:14.919609Z",
          "shell.execute_reply": "2023-03-14T11:24:14.918508Z"
        },
        "papermill": {
          "duration": 0.11194,
          "end_time": "2023-03-14T11:24:14.922867",
          "exception": false,
          "start_time": "2023-03-14T11:24:14.810927",
          "status": "completed"
        },
        "tags": [],
        "id": "05498cf9"
      },
      "outputs": [],
      "source": [
        "from sklearn.model_selection import train_test_split\n",
        "X_train, X_test, y_train, y_test = train_test_split(X, y, test_size = 0.2)"
      ]
    },
    {
      "cell_type": "code",
      "execution_count": null,
      "id": "65ea7d25",
      "metadata": {
        "execution": {
          "iopub.execute_input": "2023-03-14T11:24:14.962797Z",
          "iopub.status.busy": "2023-03-14T11:24:14.962395Z",
          "iopub.status.idle": "2023-03-14T11:24:14.967886Z",
          "shell.execute_reply": "2023-03-14T11:24:14.966929Z"
        },
        "papermill": {
          "duration": 0.029833,
          "end_time": "2023-03-14T11:24:14.972417",
          "exception": false,
          "start_time": "2023-03-14T11:24:14.942584",
          "status": "completed"
        },
        "tags": [],
        "id": "65ea7d25"
      },
      "outputs": [],
      "source": [
        "y_train = y_train.astype('float32').reshape((-1, 1))\n",
        "y_test = y_test.astype('float32').reshape((-1, 1))"
      ]
    },
    {
      "cell_type": "code",
      "execution_count": null,
      "id": "304fe88a",
      "metadata": {
        "execution": {
          "iopub.execute_input": "2023-03-14T11:24:15.005242Z",
          "iopub.status.busy": "2023-03-14T11:24:15.004871Z",
          "iopub.status.idle": "2023-03-14T11:24:15.010733Z",
          "shell.execute_reply": "2023-03-14T11:24:15.009672Z"
        },
        "papermill": {
          "duration": 0.027968,
          "end_time": "2023-03-14T11:24:15.016332",
          "exception": false,
          "start_time": "2023-03-14T11:24:14.988364",
          "status": "completed"
        },
        "tags": [],
        "id": "304fe88a",
        "colab": {
          "base_uri": "https://localhost:8080/"
        },
        "outputId": "eb43a9b6-3c6b-4d93-df28-8e5f4889b2d2"
      },
      "outputs": [
        {
          "output_type": "stream",
          "name": "stdout",
          "text": [
            "(8000,) (2000,)\n",
            "(8000, 1) (2000, 1)\n"
          ]
        }
      ],
      "source": [
        "print(X_train.shape, X_test.shape)\n",
        "print(y_train.shape, y_test.shape)"
      ]
    },
    {
      "cell_type": "markdown",
      "id": "8161b64a",
      "metadata": {
        "papermill": {
          "duration": 0.015501,
          "end_time": "2023-03-14T11:24:15.047641",
          "exception": false,
          "start_time": "2023-03-14T11:24:15.032140",
          "status": "completed"
        },
        "tags": [],
        "id": "8161b64a"
      },
      "source": [
        "## Model Building\n",
        "---"
      ]
    },
    {
      "cell_type": "code",
      "execution_count": null,
      "id": "8bd60041",
      "metadata": {
        "execution": {
          "iopub.execute_input": "2023-03-14T11:24:15.091395Z",
          "iopub.status.busy": "2023-03-14T11:24:15.090900Z",
          "iopub.status.idle": "2023-03-14T11:24:15.101506Z",
          "shell.execute_reply": "2023-03-14T11:24:15.100574Z"
        },
        "papermill": {
          "duration": 0.035671,
          "end_time": "2023-03-14T11:24:15.104270",
          "exception": false,
          "start_time": "2023-03-14T11:24:15.068599",
          "status": "completed"
        },
        "tags": [],
        "id": "8bd60041"
      },
      "outputs": [],
      "source": [
        "from tensorflow.keras.layers import TextVectorization\n",
        "from tensorflow.keras.layers import Conv1D, Flatten, MaxPooling1D, Dense, LSTM, Embedding, Input\n",
        "from tensorflow.keras.models import Sequential\n",
        "from tensorflow.keras.regularizers import l2\n",
        "\n",
        "# max_features = 30000 # Number of words in our vocabulary\n",
        "max_len = 512 # length of the output vectors"
      ]
    },
    {
      "cell_type": "code",
      "execution_count": null,
      "id": "cf6f91ee",
      "metadata": {
        "execution": {
          "iopub.execute_input": "2023-03-14T11:24:15.138569Z",
          "iopub.status.busy": "2023-03-14T11:24:15.138244Z",
          "iopub.status.idle": "2023-03-14T11:24:18.835202Z",
          "shell.execute_reply": "2023-03-14T11:24:18.834125Z"
        },
        "papermill": {
          "duration": 3.717296,
          "end_time": "2023-03-14T11:24:18.838098",
          "exception": false,
          "start_time": "2023-03-14T11:24:15.120802",
          "status": "completed"
        },
        "tags": [],
        "id": "cf6f91ee"
      },
      "outputs": [],
      "source": [
        "vectorize_layer = TextVectorization(output_mode = 'int', output_sequence_length = max_len)"
      ]
    },
    {
      "cell_type": "markdown",
      "id": "11d4caf0",
      "metadata": {
        "papermill": {
          "duration": 0.010807,
          "end_time": "2023-03-14T11:24:18.860414",
          "exception": false,
          "start_time": "2023-03-14T11:24:18.849607",
          "status": "completed"
        },
        "tags": [],
        "id": "11d4caf0"
      },
      "source": [
        "Creating Vocabulary"
      ]
    },
    {
      "cell_type": "code",
      "execution_count": null,
      "id": "89a7a2ae",
      "metadata": {
        "execution": {
          "iopub.execute_input": "2023-03-14T11:24:18.883597Z",
          "iopub.status.busy": "2023-03-14T11:24:18.883292Z",
          "iopub.status.idle": "2023-03-14T11:24:24.290348Z",
          "shell.execute_reply": "2023-03-14T11:24:24.288865Z"
        },
        "papermill": {
          "duration": 5.421646,
          "end_time": "2023-03-14T11:24:24.292829",
          "exception": false,
          "start_time": "2023-03-14T11:24:18.871183",
          "status": "completed"
        },
        "tags": [],
        "id": "89a7a2ae",
        "colab": {
          "base_uri": "https://localhost:8080/"
        },
        "outputId": "ad3e1518-e40c-4b7d-a3f0-58a2cc20e1f7"
      },
      "outputs": [
        {
          "output_type": "stream",
          "name": "stdout",
          "text": [
            "CPU times: user 1.11 s, sys: 82 ms, total: 1.19 s\n",
            "Wall time: 1.1 s\n"
          ]
        }
      ],
      "source": [
        "%%time\n",
        "vectorize_layer.adapt(X_train) "
      ]
    },
    {
      "cell_type": "code",
      "execution_count": null,
      "id": "eed012a1",
      "metadata": {
        "execution": {
          "iopub.execute_input": "2023-03-14T11:24:24.317364Z",
          "iopub.status.busy": "2023-03-14T11:24:24.317008Z",
          "iopub.status.idle": "2023-03-14T11:24:24.762211Z",
          "shell.execute_reply": "2023-03-14T11:24:24.761103Z"
        },
        "papermill": {
          "duration": 0.460327,
          "end_time": "2023-03-14T11:24:24.764631",
          "exception": false,
          "start_time": "2023-03-14T11:24:24.304304",
          "status": "completed"
        },
        "tags": [],
        "id": "eed012a1",
        "colab": {
          "base_uri": "https://localhost:8080/"
        },
        "outputId": "09b8b17c-874b-49e4-fcae-8225c7478025"
      },
      "outputs": [
        {
          "output_type": "execute_result",
          "data": {
            "text/plain": [
              "66877"
            ]
          },
          "metadata": {},
          "execution_count": 27
        }
      ],
      "source": [
        "vocab_len = len(vectorize_layer.get_vocabulary())\n",
        "vocab_len"
      ]
    },
    {
      "cell_type": "code",
      "execution_count": null,
      "id": "e32eff40",
      "metadata": {
        "execution": {
          "iopub.execute_input": "2023-03-14T11:24:24.790254Z",
          "iopub.status.busy": "2023-03-14T11:24:24.788487Z",
          "iopub.status.idle": "2023-03-14T11:24:25.451281Z",
          "shell.execute_reply": "2023-03-14T11:24:25.450089Z"
        },
        "papermill": {
          "duration": 0.678025,
          "end_time": "2023-03-14T11:24:25.454190",
          "exception": false,
          "start_time": "2023-03-14T11:24:24.776165",
          "status": "completed"
        },
        "tags": [],
        "id": "e32eff40"
      },
      "outputs": [],
      "source": [
        "model = Sequential()\n",
        "model.add(Input(shape=(1,), dtype = tf.string))\n",
        "model.add(vectorize_layer)\n",
        "model.add(Embedding(input_dim = vocab_len, output_dim = 256, input_length= max_len))\n",
        "model.add(Conv1D(32, 5, strides = 1,activation= 'relu', padding = 'same', kernel_regularizer = l2(0.0001)))\n",
        "model.add(Conv1D(16, 5, strides = 1,activation= 'relu', padding = 'same', kernel_regularizer = l2(0.0001)))\n",
        "model.add(MaxPooling1D(4, 1, padding = 'same'))\n",
        "model.add(tf.keras.layers.Bidirectional(LSTM(64, kernel_regularizer = l2(0.0001))))\n",
        "model.add(Dense(32, activation = 'relu', kernel_regularizer = l2(0.0001)))\n",
        "model.add(Dense(16, activation = 'relu', kernel_regularizer = l2(0.0001)))\n",
        "model.add(Flatten())\n",
        "model.add(Dense(1, activation = 'sigmoid'))"
      ]
    },
    {
      "cell_type": "code",
      "execution_count": null,
      "id": "c21f27da",
      "metadata": {
        "execution": {
          "iopub.execute_input": "2023-03-14T11:24:25.478601Z",
          "iopub.status.busy": "2023-03-14T11:24:25.478282Z",
          "iopub.status.idle": "2023-03-14T11:24:25.486217Z",
          "shell.execute_reply": "2023-03-14T11:24:25.485405Z"
        },
        "papermill": {
          "duration": 0.022763,
          "end_time": "2023-03-14T11:24:25.488561",
          "exception": false,
          "start_time": "2023-03-14T11:24:25.465798",
          "status": "completed"
        },
        "tags": [],
        "id": "c21f27da"
      },
      "outputs": [],
      "source": [
        "optimizer = tf.keras.optimizers.Adam(learning_rate = 0.001)"
      ]
    },
    {
      "cell_type": "code",
      "execution_count": null,
      "id": "ddc97f52",
      "metadata": {
        "execution": {
          "iopub.execute_input": "2023-03-14T11:24:25.512031Z",
          "iopub.status.busy": "2023-03-14T11:24:25.511752Z",
          "iopub.status.idle": "2023-03-14T11:24:25.561162Z",
          "shell.execute_reply": "2023-03-14T11:24:25.559698Z"
        },
        "papermill": {
          "duration": 0.082165,
          "end_time": "2023-03-14T11:24:25.581672",
          "exception": false,
          "start_time": "2023-03-14T11:24:25.499507",
          "status": "completed"
        },
        "tags": [],
        "id": "ddc97f52",
        "colab": {
          "base_uri": "https://localhost:8080/"
        },
        "outputId": "810a54da-7040-4d9c-9c3e-1098bfa86425"
      },
      "outputs": [
        {
          "output_type": "stream",
          "name": "stdout",
          "text": [
            "Model: \"sequential\"\n",
            "_________________________________________________________________\n",
            " Layer (type)                Output Shape              Param #   \n",
            "=================================================================\n",
            " text_vectorization (TextVec  (None, 512)              0         \n",
            " torization)                                                     \n",
            "                                                                 \n",
            " embedding (Embedding)       (None, 512, 256)          17120512  \n",
            "                                                                 \n",
            " conv1d (Conv1D)             (None, 512, 32)           40992     \n",
            "                                                                 \n",
            " conv1d_1 (Conv1D)           (None, 512, 16)           2576      \n",
            "                                                                 \n",
            " max_pooling1d (MaxPooling1D  (None, 512, 16)          0         \n",
            " )                                                               \n",
            "                                                                 \n",
            " bidirectional (Bidirectiona  (None, 128)              41472     \n",
            " l)                                                              \n",
            "                                                                 \n",
            " dense (Dense)               (None, 32)                4128      \n",
            "                                                                 \n",
            " dense_1 (Dense)             (None, 16)                528       \n",
            "                                                                 \n",
            " flatten (Flatten)           (None, 16)                0         \n",
            "                                                                 \n",
            " dense_2 (Dense)             (None, 1)                 17        \n",
            "                                                                 \n",
            "=================================================================\n",
            "Total params: 17,210,225\n",
            "Trainable params: 17,210,225\n",
            "Non-trainable params: 0\n",
            "_________________________________________________________________\n"
          ]
        }
      ],
      "source": [
        "model.compile(optimizer= optimizer, loss = 'binary_crossentropy', metrics = ['accuracy'])\n",
        "model.summary()"
      ]
    },
    {
      "cell_type": "code",
      "execution_count": null,
      "id": "864879b8",
      "metadata": {
        "_kg_hide-input": true,
        "execution": {
          "iopub.execute_input": "2023-03-14T11:24:25.611012Z",
          "iopub.status.busy": "2023-03-14T11:24:25.610130Z",
          "iopub.status.idle": "2023-03-14T11:33:51.405934Z",
          "shell.execute_reply": "2023-03-14T11:33:51.404342Z"
        },
        "papermill": {
          "duration": 565.813348,
          "end_time": "2023-03-14T11:33:51.408815",
          "exception": false,
          "start_time": "2023-03-14T11:24:25.595467",
          "status": "completed"
        },
        "tags": [],
        "id": "864879b8",
        "colab": {
          "base_uri": "https://localhost:8080/"
        },
        "outputId": "c2ea88fa-cb67-4243-8beb-c1e154be0c42"
      },
      "outputs": [
        {
          "output_type": "stream",
          "name": "stdout",
          "text": [
            "Epoch 1/6\n",
            "250/250 [==============================] - 77s 250ms/step - loss: 0.6626 - accuracy: 0.5911 - val_loss: 0.5674 - val_accuracy: 0.7470\n",
            "Epoch 2/6\n",
            "250/250 [==============================] - 47s 191ms/step - loss: 0.4062 - accuracy: 0.8338 - val_loss: 1.5748 - val_accuracy: 0.5035\n",
            "Epoch 3/6\n",
            "250/250 [==============================] - 36s 146ms/step - loss: 0.3847 - accuracy: 0.8485 - val_loss: 0.5245 - val_accuracy: 0.7700\n",
            "Epoch 4/6\n",
            "250/250 [==============================] - 29s 118ms/step - loss: 0.1312 - accuracy: 0.9624 - val_loss: 0.4750 - val_accuracy: 0.8310\n",
            "Epoch 5/6\n",
            "250/250 [==============================] - 25s 100ms/step - loss: 0.0524 - accuracy: 0.9900 - val_loss: 0.5975 - val_accuracy: 0.8240\n",
            "Epoch 6/6\n",
            "250/250 [==============================] - 21s 86ms/step - loss: 0.0308 - accuracy: 0.9965 - val_loss: 0.7528 - val_accuracy: 0.8330\n",
            "CPU times: user 3min 8s, sys: 5.78 s, total: 3min 14s\n",
            "Wall time: 4min 25s\n"
          ]
        }
      ],
      "source": [
        "%%time\n",
        "hist = model.fit(X_train, y_train,\n",
        "          epochs= 6, validation_data = (X_test, y_test))"
      ]
    },
    {
      "cell_type": "markdown",
      "id": "3b637a5c",
      "metadata": {
        "papermill": {
          "duration": 0.292033,
          "end_time": "2023-03-14T11:33:51.951180",
          "exception": false,
          "start_time": "2023-03-14T11:33:51.659147",
          "status": "completed"
        },
        "tags": [],
        "id": "3b637a5c"
      },
      "source": [
        "I tried with multiple parameters of the network"
      ]
    },
    {
      "cell_type": "markdown",
      "id": "a712fcbc",
      "metadata": {
        "papermill": {
          "duration": 0.245471,
          "end_time": "2023-03-14T11:33:52.438894",
          "exception": false,
          "start_time": "2023-03-14T11:33:52.193423",
          "status": "completed"
        },
        "tags": [],
        "id": "a712fcbc"
      },
      "source": [
        "Conv1D(256, 20) [epoch =2] -->  loss: 0.5941 - accuracy: 0.6189 - val_loss: 0.6664 - val_accuracy: 0.5703   \n",
        "Conv1D(32, 3) [epoch =2] --> loss: 0.6741 - accuracy: 0.5568 - val_loss: 0.6875 - val_accuracy: 0.5354  \n",
        "Conv1D(32, 5) [epoch =2] --> loss: 0.6629 - accuracy: 0.5644 - val_loss: 0.6804 - val_accuracy: 0.5449  \n",
        "Conv1D(64, 5) + MaxPooling1D + Flatten [epoch =2] --> loss: 0.1967 - accuracy: 0.9290 - val_loss: 0.4606 - val_accuracy: 0.8110   \n",
        "Conv1D(64, 5) + MaxPooling1D + LSTM + Flatten [epoch =2] --> loss: 0.4598 - accuracy: 0.7910 - val_loss: 0.7151 - val_accuracy: 0.6050  \n",
        "Conv1D(64, 5) + MaxPooling1D + LSTM  [epoch =2] --> loss: 0.3909 - accuracy: 0.8472 - val_loss: 0.5533 - val_accuracy: 0.7510   \n",
        "Conv1D(64, 5) + MaxPooling1D + LSTM(36) + Flatten [epoch =2] --> loss: 0.3613 - accuracy: 0.8537 - val_loss: 0.5601 - val_accuracy: 0.7470  \n",
        "Conv1D(128, 6) + MaxPooling1D + LSTM(64) + Flatten [epoch =2] --> loss: 0.3425 - accuracy: 0.8702 - val_loss: 0.5211 - val_accuracy: 0.7600  \n",
        "Conv1D(64, 6) + MaxPooling1D + LSTM(64) + Dense(128) + Flatten [epoch =2] --> loss: 0.4164 - accuracy: 0.8192 - val_loss: 0.6391 - val_accuracy: 0.6890  \n",
        "Conv1D(64, 5) + Conv1D(32, 3) + MaxPooling1D + LSTM(32) + Dense(32) + regularization + Flatten [epoch = 10] --> loss: 0.0842 - accuracy: 0.9923 - val_loss: 0.6698 - val_accuracy: 0.8255  \n",
        "Data = 10000 Conv1D(64, 5) + Conv1D(32, 3) + MaxPooling1D + LSTM(32) + Dense(64) + Dense(32) + regularization + Flatten [epoch = 10] --> loss: 0.1003 - accuracy: 0.9970 - val_loss: 0.6149 - val_accuracy: 0.8425"
      ]
    },
    {
      "cell_type": "markdown",
      "id": "2e38ff83",
      "metadata": {
        "papermill": {
          "duration": 0.252693,
          "end_time": "2023-03-14T11:33:52.938408",
          "exception": false,
          "start_time": "2023-03-14T11:33:52.685715",
          "status": "completed"
        },
        "tags": [],
        "id": "2e38ff83"
      },
      "source": [
        "## Model Evaluation\n",
        "---"
      ]
    },
    {
      "cell_type": "markdown",
      "id": "36a03d68",
      "metadata": {
        "papermill": {
          "duration": 0.292874,
          "end_time": "2023-03-14T11:33:53.482476",
          "exception": false,
          "start_time": "2023-03-14T11:33:53.189602",
          "status": "completed"
        },
        "tags": [],
        "id": "36a03d68"
      },
      "source": [
        "Plotting Model Accuracy Performance"
      ]
    },
    {
      "cell_type": "code",
      "execution_count": null,
      "id": "7796c46c",
      "metadata": {
        "execution": {
          "iopub.execute_input": "2023-03-14T11:33:53.991443Z",
          "iopub.status.busy": "2023-03-14T11:33:53.990416Z",
          "iopub.status.idle": "2023-03-14T11:33:54.241305Z",
          "shell.execute_reply": "2023-03-14T11:33:54.240242Z"
        },
        "papermill": {
          "duration": 0.508607,
          "end_time": "2023-03-14T11:33:54.243656",
          "exception": false,
          "start_time": "2023-03-14T11:33:53.735049",
          "status": "completed"
        },
        "tags": [],
        "id": "7796c46c",
        "colab": {
          "base_uri": "https://localhost:8080/",
          "height": 472
        },
        "outputId": "fd5ab1dd-04c4-4c32-a1aa-b8d557ab9863"
      },
      "outputs": [
        {
          "output_type": "display_data",
          "data": {
            "text/plain": [
              "<Figure size 640x480 with 1 Axes>"
            ],
            "image/png": "[encoded data removed]"
          },
          "metadata": {}
        }
      ],
      "source": [
        "plt.plot(hist.history['accuracy'])\n",
        "plt.plot(hist.history['val_accuracy'])\n",
        "plt.title('Model Accuracy')\n",
        "plt.xlabel('Epoch')\n",
        "plt.ylabel('Accuracy')\n",
        "plt.legend(['train', 'val'])\n",
        "plt.show()"
      ]
    },
    {
      "cell_type": "markdown",
      "id": "507d99b6",
      "metadata": {
        "papermill": {
          "duration": 0.251452,
          "end_time": "2023-03-14T11:33:54.744806",
          "exception": false,
          "start_time": "2023-03-14T11:33:54.493354",
          "status": "completed"
        },
        "tags": [],
        "id": "507d99b6"
      },
      "source": [
        "Plotting Model Loss Performance"
      ]
    },
    {
      "cell_type": "code",
      "execution_count": null,
      "id": "b87c3ec5",
      "metadata": {
        "execution": {
          "iopub.execute_input": "2023-03-14T11:33:55.300126Z",
          "iopub.status.busy": "2023-03-14T11:33:55.299763Z",
          "iopub.status.idle": "2023-03-14T11:33:55.582680Z",
          "shell.execute_reply": "2023-03-14T11:33:55.578493Z"
        },
        "papermill": {
          "duration": 0.584001,
          "end_time": "2023-03-14T11:33:55.586076",
          "exception": false,
          "start_time": "2023-03-14T11:33:55.002075",
          "status": "completed"
        },
        "tags": [],
        "id": "b87c3ec5",
        "colab": {
          "base_uri": "https://localhost:8080/",
          "height": 472
        },
        "outputId": "54b6d747-1f0d-4299-b0ef-56e3bca723cc"
      },
      "outputs": [
        {
          "output_type": "display_data",
          "data": {
            "text/plain": [
              "<Figure size 640x480 with 1 Axes>"
            ],
            "image/png": "[encoded data removed]"
          },
          "metadata": {}
        }
      ],
      "source": [
        "plt.plot(hist.history['loss'])\n",
        "plt.plot(hist.history['val_loss'])\n",
        "plt.title('Model Loss')\n",
        "plt.xlabel('Epoch')\n",
        "plt.ylabel('Loss')\n",
        "plt.legend(['train', 'val'])\n",
        "plt.show()"
      ]
    },
    {
      "cell_type": "markdown",
      "id": "725ded26",
      "metadata": {
        "papermill": {
          "duration": 0.273559,
          "end_time": "2023-03-14T11:33:56.231521",
          "exception": false,
          "start_time": "2023-03-14T11:33:55.957962",
          "status": "completed"
        },
        "tags": [],
        "id": "725ded26"
      },
      "source": [
        "## Prediction\n",
        "---"
      ]
    },
    {
      "cell_type": "code",
      "execution_count": null,
      "id": "f280be81",
      "metadata": {
        "execution": {
          "iopub.execute_input": "2023-03-14T11:33:56.735486Z",
          "iopub.status.busy": "2023-03-14T11:33:56.734566Z",
          "iopub.status.idle": "2023-03-14T11:33:57.687219Z",
          "shell.execute_reply": "2023-03-14T11:33:57.686217Z"
        },
        "papermill": {
          "duration": 1.212811,
          "end_time": "2023-03-14T11:33:57.689485",
          "exception": false,
          "start_time": "2023-03-14T11:33:56.476674",
          "status": "completed"
        },
        "tags": [],
        "id": "f280be81",
        "colab": {
          "base_uri": "https://localhost:8080/"
        },
        "outputId": "d4f140f6-6241-4d05-b128-705963b9b649"
      },
      "outputs": [
        {
          "output_type": "stream",
          "name": "stdout",
          "text": [
            "1/1 [==============================] - 1s 1s/step\n"
          ]
        }
      ],
      "source": [
        "pred = model.predict(['''So, I'm wondering while watching this film, did the producers of this movie get to save money on Sandra Bullock's wardrobe by dragging out her \"before\" clothes from Miss Congeniality? Did Ms. Bullock also get to sleepwalk through the role by channeling the \"before\" Gracie Hart? As many reviewers have noted before, the film is very formulaic. Add to that the deja vu viewer experiences with the character of Cassie Maywether as a somewhat darker Gracie Hart with more back story and it rapidly become a snooze fest.<br /><br />The two bad boy serial killers have been done before (and better) in other films. As has the \"good guy partner trying to protect his partner despite the evidence\" character been seen before. In fact none of the characters in the film ever get beyond two dimensions or try to be anything but trite stereotypes.<br /><br />One last peeve - using the term serial killer is false advertising. Murdering one person - even if it's a premeditated murder - does not make you a serial killer. You may have the potential to become a serial killer but you are not a serial killer or even a spree killer.''',])"
      ]
    },
    {
      "cell_type": "code",
      "execution_count": null,
      "id": "d76e9ea5",
      "metadata": {
        "execution": {
          "iopub.execute_input": "2023-03-14T11:33:58.188365Z",
          "iopub.status.busy": "2023-03-14T11:33:58.187457Z",
          "iopub.status.idle": "2023-03-14T11:33:58.194770Z",
          "shell.execute_reply": "2023-03-14T11:33:58.193540Z"
        },
        "papermill": {
          "duration": 0.259623,
          "end_time": "2023-03-14T11:33:58.196962",
          "exception": false,
          "start_time": "2023-03-14T11:33:57.937339",
          "status": "completed"
        },
        "tags": [],
        "id": "d76e9ea5",
        "colab": {
          "base_uri": "https://localhost:8080/"
        },
        "outputId": "6213161b-23f0-407a-a4b6-5a0b996932a6"
      },
      "outputs": [
        {
          "output_type": "execute_result",
          "data": {
            "text/plain": [
              "array([[False]])"
            ]
          },
          "metadata": {},
          "execution_count": 35
        }
      ],
      "source": [
        "pred > 0.5"
      ]
    },
    {
      "cell_type": "code",
      "execution_count": null,
      "id": "4fe9cbd3",
      "metadata": {
        "execution": {
          "iopub.execute_input": "2023-03-14T11:33:58.737333Z",
          "iopub.status.busy": "2023-03-14T11:33:58.736258Z",
          "iopub.status.idle": "2023-03-14T11:33:58.826946Z",
          "shell.execute_reply": "2023-03-14T11:33:58.825719Z"
        },
        "papermill": {
          "duration": 0.3425,
          "end_time": "2023-03-14T11:33:58.829375",
          "exception": false,
          "start_time": "2023-03-14T11:33:58.486875",
          "status": "completed"
        },
        "tags": [],
        "id": "4fe9cbd3",
        "colab": {
          "base_uri": "https://localhost:8080/"
        },
        "outputId": "4765ec92-dea6-464a-c5ea-8fc97334a787"
      },
      "outputs": [
        {
          "output_type": "stream",
          "name": "stdout",
          "text": [
            "1/1 [==============================] - 0s 41ms/step\n"
          ]
        }
      ],
      "source": [
        "pred2 = model.predict(['''Petter Mattei's \"Love in the Time of Money\" is a visually stunning film to watch. Mr. Mattei offers us a vivid portrait about human relations. This is a movie that seems to be telling us what money, power and success do to people in the different situations we encounter. <br /><br />This being a variation on the Arthur Schnitzler's play about the same theme, the director transfers the action to the present time New York where all these different characters meet and connect. Each one is connected in one way, or another to the next person, but no one seems to know the previous point of contact. Stylishly, the film has a sophisticated luxurious look. We are taken to see how these people live and the world they live in their own habitat.<br /><br />The only thing one gets out of all these souls in the picture is the different stages of loneliness each one inhabits. A big city is not exactly the best place in which human relations find sincere fulfillment, as one discerns is the case with most of the people we encounter.<br /><br />The acting is good under Mr. Mattei's direction. Steve Buscemi, Rosario Dawson, Carol Kane, Michael Imperioli, Adrian Grenier, and the rest of the talented cast, make these characters come alive.<br /><br />We wish Mr. Mattei good luck and await anxiously for his next work.'''])"
      ]
    },
    {
      "cell_type": "code",
      "execution_count": null,
      "id": "2cbca135",
      "metadata": {
        "execution": {
          "iopub.execute_input": "2023-03-14T11:33:59.329307Z",
          "iopub.status.busy": "2023-03-14T11:33:59.328549Z",
          "iopub.status.idle": "2023-03-14T11:33:59.335340Z",
          "shell.execute_reply": "2023-03-14T11:33:59.334250Z"
        },
        "papermill": {
          "duration": 0.261496,
          "end_time": "2023-03-14T11:33:59.337693",
          "exception": false,
          "start_time": "2023-03-14T11:33:59.076197",
          "status": "completed"
        },
        "tags": [],
        "id": "2cbca135",
        "colab": {
          "base_uri": "https://localhost:8080/"
        },
        "outputId": "a6485b8f-80b8-4636-d7ab-28133190d6fe"
      },
      "outputs": [
        {
          "output_type": "execute_result",
          "data": {
            "text/plain": [
              "array([[ True]])"
            ]
          },
          "metadata": {},
          "execution_count": 37
        }
      ],
      "source": [
        "pred2 > 0.5"
      ]
    },
    {
      "cell_type": "code",
      "execution_count": null,
      "id": "1ce53079",
      "metadata": {
        "execution": {
          "iopub.execute_input": "2023-03-14T11:33:59.852493Z",
          "iopub.status.busy": "2023-03-14T11:33:59.851489Z",
          "iopub.status.idle": "2023-03-14T11:33:59.859480Z",
          "shell.execute_reply": "2023-03-14T11:33:59.858242Z"
        },
        "papermill": {
          "duration": 0.26683,
          "end_time": "2023-03-14T11:33:59.861904",
          "exception": false,
          "start_time": "2023-03-14T11:33:59.595074",
          "status": "completed"
        },
        "tags": [],
        "id": "1ce53079",
        "colab": {
          "base_uri": "https://localhost:8080/"
        },
        "outputId": "a8d81c9b-1f94-4c88-ec99-21d7872f4648"
      },
      "outputs": [
        {
          "output_type": "execute_result",
          "data": {
            "text/plain": [
              "array([[0.99924976]], dtype=float32)"
            ]
          },
          "metadata": {},
          "execution_count": 38
        }
      ],
      "source": [
        "pred2"
      ]
    },
    {
      "cell_type": "markdown",
      "id": "2ddabf95",
      "metadata": {
        "papermill": {
          "duration": 0.290524,
          "end_time": "2023-03-14T11:34:00.411829",
          "exception": false,
          "start_time": "2023-03-14T11:34:00.121305",
          "status": "completed"
        },
        "tags": [],
        "id": "2ddabf95"
      },
      "source": [
        "Defining a function for inference, in this function we will assume a negative sentiment if prediction not greater than 0.5 and positive sentiment if prediction is greater than 0.5"
      ]
    },
    {
      "cell_type": "code",
      "execution_count": null,
      "id": "1f7dd5e2",
      "metadata": {
        "execution": {
          "iopub.execute_input": "2023-03-14T11:34:00.928283Z",
          "iopub.status.busy": "2023-03-14T11:34:00.927275Z",
          "iopub.status.idle": "2023-03-14T11:34:00.933642Z",
          "shell.execute_reply": "2023-03-14T11:34:00.932479Z"
        },
        "papermill": {
          "duration": 0.266398,
          "end_time": "2023-03-14T11:34:00.935884",
          "exception": false,
          "start_time": "2023-03-14T11:34:00.669486",
          "status": "completed"
        },
        "tags": [],
        "id": "1f7dd5e2"
      },
      "outputs": [],
      "source": [
        "def predict_sentiment(text, model):\n",
        "    text = [text]\n",
        "    pred = model.predict(text)\n",
        "    print(pred)\n",
        "    if pred > 0.5:\n",
        "        return \"Positive\"\n",
        "    else:\n",
        "        return \"Negative\""
      ]
    },
    {
      "cell_type": "code",
      "execution_count": null,
      "id": "46dfd206",
      "metadata": {
        "execution": {
          "iopub.execute_input": "2023-03-14T11:34:01.441000Z",
          "iopub.status.busy": "2023-03-14T11:34:01.440624Z",
          "iopub.status.idle": "2023-03-14T11:34:01.538370Z",
          "shell.execute_reply": "2023-03-14T11:34:01.537088Z"
        },
        "papermill": {
          "duration": 0.356542,
          "end_time": "2023-03-14T11:34:01.540926",
          "exception": false,
          "start_time": "2023-03-14T11:34:01.184384",
          "status": "completed"
        },
        "tags": [],
        "id": "46dfd206",
        "colab": {
          "base_uri": "https://localhost:8080/",
          "height": 70
        },
        "outputId": "fc2dc196-e3af-451d-f149-d1791df0d2cb"
      },
      "outputs": [
        {
          "output_type": "stream",
          "name": "stdout",
          "text": [
            "1/1 [==============================] - 0s 51ms/step\n",
            "[[0.99909973]]\n"
          ]
        },
        {
          "output_type": "execute_result",
          "data": {
            "text/plain": [
              "'Positive'"
            ],
            "application/vnd.google.colaboratory.intrinsic+json": {
              "type": "string"
            }
          },
          "metadata": {},
          "execution_count": 40
        }
      ],
      "source": [
        "pst_txt = '''One of the other reviewers has mentioned that after watching just 1 Oz episode you'll be hooked. They are right, as this is exactly what happened with me.<br /><br />The first thing that struck me about Oz was its brutality and unflinching scenes of violence, which set in right from the word GO. Trust me, this is not a show for the faint hearted or timid. This show pulls no punches with regards to drugs, sex or violence. Its is hardcore, in the classic use of the word.<br /><br />It is called OZ as that is the nickname given to the Oswald Maximum Security State Penitentary. It focuses mainly on Emerald City, an experimental section of the prison where all the cells have glass fronts and face inwards, so privacy is not high on the agenda. Em City is home to many..Aryans, Muslims, gangstas, Latinos, Christians, Italians, Irish and more....so scuffles, death stares, dodgy dealings and shady agreements are never far away.<br /><br />I would say the main appeal of the show is due to the fact that it goes where other shows wouldn't dare. Forget pretty pictures painted for mainstream audiences, forget charm, forget romance...OZ doesn't mess around. The first episode I ever saw struck me as so nasty it was surreal, I couldn't say I was ready for it, but as I watched more, I developed a taste for Oz, and got accustomed to the high levels of graphic violence. Not just violence, but injustice (crooked guards who'll be sold out for a nickel, inmates who'll kill on order and get away with it, well mannered, middle class inmates being turned into prison bitches due to their lack of street skills or prison experience) Watching Oz, you may become comfortable with what is uncomfortable viewing....thats if you can get in touch with your darker side.'''\n",
        "predict_sentiment(pst_txt, model)"
      ]
    },
    {
      "cell_type": "code",
      "execution_count": null,
      "id": "fb93ead8",
      "metadata": {
        "execution": {
          "iopub.execute_input": "2023-03-14T11:34:02.116674Z",
          "iopub.status.busy": "2023-03-14T11:34:02.116284Z",
          "iopub.status.idle": "2023-03-14T11:34:02.209489Z",
          "shell.execute_reply": "2023-03-14T11:34:02.207696Z"
        },
        "papermill": {
          "duration": 0.355528,
          "end_time": "2023-03-14T11:34:02.212405",
          "exception": false,
          "start_time": "2023-03-14T11:34:01.856877",
          "status": "completed"
        },
        "tags": [],
        "id": "fb93ead8",
        "colab": {
          "base_uri": "https://localhost:8080/",
          "height": 70
        },
        "outputId": "d8f223ce-fa8d-4c07-e1d8-836c83c69bd0"
      },
      "outputs": [
        {
          "output_type": "stream",
          "name": "stdout",
          "text": [
            "1/1 [==============================] - 0s 44ms/step\n",
            "[[0.00175655]]\n"
          ]
        },
        {
          "output_type": "execute_result",
          "data": {
            "text/plain": [
              "'Negative'"
            ],
            "application/vnd.google.colaboratory.intrinsic+json": {
              "type": "string"
            }
          },
          "metadata": {},
          "execution_count": 41
        }
      ],
      "source": [
        "ngt_txt ='''Basically there's a family where a little boy (Jake) thinks there's a zombie in his closet & his parents are fighting all the time.<br /><br />This movie is slower than a soap opera... and suddenly, Jake decides to become Rambo and kill the zombie.<br /><br />OK, first of all when you're going to make a film you must Decide if its a thriller or a drama! As a drama the movie is watchable. Parents are divorcing & arguing like in real life. And then we have Jake with his closet which totally ruins all the film! I expected to see a BOOGEYMAN similar movie, and instead i watched a drama with some meaningless thriller spots.<br /><br />3 out of 10 just for the well playing parents & descent dialogs. As for the shots with Jake: just ignore them.'''\n",
        "predict_sentiment(ngt_txt, model)"
      ]
    },
    {
      "cell_type": "code",
      "execution_count": null,
      "id": "d73db427",
      "metadata": {
        "execution": {
          "iopub.execute_input": "2023-03-14T11:34:02.729379Z",
          "iopub.status.busy": "2023-03-14T11:34:02.728979Z",
          "iopub.status.idle": "2023-03-14T11:34:02.831321Z",
          "shell.execute_reply": "2023-03-14T11:34:02.830207Z"
        },
        "papermill": {
          "duration": 0.358952,
          "end_time": "2023-03-14T11:34:02.833919",
          "exception": false,
          "start_time": "2023-03-14T11:34:02.474967",
          "status": "completed"
        },
        "tags": [],
        "id": "d73db427",
        "colab": {
          "base_uri": "https://localhost:8080/",
          "height": 70
        },
        "outputId": "d5472380-4d1a-4b28-959b-da62da1d621b"
      },
      "outputs": [
        {
          "output_type": "stream",
          "name": "stdout",
          "text": [
            "1/1 [==============================] - 0s 47ms/step\n",
            "[[0.9987251]]\n"
          ]
        },
        {
          "output_type": "execute_result",
          "data": {
            "text/plain": [
              "'Positive'"
            ],
            "application/vnd.google.colaboratory.intrinsic+json": {
              "type": "string"
            }
          },
          "metadata": {},
          "execution_count": 42
        }
      ],
      "source": [
        "ngt_txt2 = '''It's become extremely difficult to find a good horror movie anymore, thought this movie was a good thriller.<br /><br />Could have had better production values but what kept me going was the suspense and the twists. I had real reservations before seeing this movie (because of the cover). I was afraid that it would be excessively bloody and gory. I was wrong.<br /><br />Although there is a lot of scary parts, there is a lot of suspense and drama too.<br /><br />The acting in Dead Line was better than what you would expect from a micro budget horror flick. The characters were believable<br /><br />The movie is really thrilling and quite scary at moments so it makes you grab your seat until the ending credits roll<br /><br />Because of its production values (the sound is not very good for example) 8/10.'''\n",
        "predict_sentiment(ngt_txt2, model)"
      ]
    },
    {
      "cell_type": "code",
      "execution_count": null,
      "id": "56d7f450",
      "metadata": {
        "execution": {
          "iopub.execute_input": "2023-03-14T11:34:03.357909Z",
          "iopub.status.busy": "2023-03-14T11:34:03.357304Z",
          "iopub.status.idle": "2023-03-14T11:34:03.453795Z",
          "shell.execute_reply": "2023-03-14T11:34:03.452499Z"
        },
        "papermill": {
          "duration": 0.355037,
          "end_time": "2023-03-14T11:34:03.456429",
          "exception": false,
          "start_time": "2023-03-14T11:34:03.101392",
          "status": "completed"
        },
        "tags": [],
        "id": "56d7f450",
        "colab": {
          "base_uri": "https://localhost:8080/",
          "height": 70
        },
        "outputId": "b1f9b54f-d0fa-400e-c048-336febc00664"
      },
      "outputs": [
        {
          "output_type": "stream",
          "name": "stdout",
          "text": [
            "1/1 [==============================] - 0s 46ms/step\n",
            "[[0.9990521]]\n"
          ]
        },
        {
          "output_type": "execute_result",
          "data": {
            "text/plain": [
              "'Positive'"
            ],
            "application/vnd.google.colaboratory.intrinsic+json": {
              "type": "string"
            }
          },
          "metadata": {},
          "execution_count": 43
        }
      ],
      "source": [
        "text3 = '''This movie is incredible. If you have the chance, watch it. Although, a warning, you'll cry your eyes out. I do, every time I see it, and I own it and have watched it many times. The performances are outstanding. It deals with darkness and pain and loss, but there is hope. This movie made me look at the world differently: vicarious experience, according to my English teacher. Also, if you've seen it, note the interesting use of shadows and light. Home room is a phenomenal movie, and I rate it 10/10 - for real - because of the excellent acting, amazing plot, and heart-wrenching dialogue. Very tense, very moving. Doesn't give all the answers, but makes many good points about humankind'''\n",
        "predict_sentiment(text3, model)"
      ]
    },
    {
      "cell_type": "markdown",
      "id": "77a6eaae",
      "metadata": {
        "papermill": {
          "duration": 0.252986,
          "end_time": "2023-03-14T11:34:20.247837",
          "exception": false,
          "start_time": "2023-03-14T11:34:19.994851",
          "status": "completed"
        },
        "tags": [],
        "id": "77a6eaae"
      },
      "source": [
        "## Loading the model\n",
        "---"
      ]
    },
    {
      "cell_type": "code",
      "execution_count": null,
      "id": "79dd7fec",
      "metadata": {
        "execution": {
          "iopub.execute_input": "2023-03-14T11:34:28.164733Z",
          "iopub.status.busy": "2023-03-14T11:34:28.164324Z",
          "iopub.status.idle": "2023-03-14T11:34:29.256676Z",
          "shell.execute_reply": "2023-03-14T11:34:29.255289Z"
        },
        "papermill": {
          "duration": 1.369992,
          "end_time": "2023-03-14T11:34:29.259215",
          "exception": false,
          "start_time": "2023-03-14T11:34:27.889223",
          "status": "completed"
        },
        "tags": [],
        "id": "79dd7fec",
        "colab": {
          "base_uri": "https://localhost:8080/",
          "height": 70
        },
        "outputId": "322d4356-e106-4c26-f2b0-6c74fd4c1d22"
      },
      "outputs": [
        {
          "output_type": "stream",
          "name": "stdout",
          "text": [
            "1/1 [==============================] - 0s 45ms/step\n",
            "[[0.00160617]]\n"
          ]
        },
        {
          "output_type": "execute_result",
          "data": {
            "text/plain": [
              "'Negative'"
            ],
            "application/vnd.google.colaboratory.intrinsic+json": {
              "type": "string"
            }
          },
          "metadata": {},
          "execution_count": 44
        }
      ],
      "source": [
        "txt = '''What a frustrating movie. A small Southern town is overflowing with possibilities for exploring the complexities of interpersonal relationships and dark underbellies hidden beneath placid surfaces, as anyone who has read anything by Carson McCullers already knows. This does none of that. Instead, the writers settled for cutesy twinkles, cheap warm fuzzies and banal melodrama. The thing looks like a made-for-TV movie, and was directed with no particular distinction, but it's hard to imagine what anyone could have done to make this material interesting.<br /><br />The most frustrating aspect, though, is the fact that there are a lot of extremely competent and appealing actors in this cast, all trying gamely to make the best of things and do what they can with this--well, there's no other word for it--drivel. A tragic waste of talent, in particular that of the great Stockard Channing.'''\n",
        "predict_sentiment(txt, model)"
      ]
    }
  ],
  "metadata": {
    "kernelspec": {
      "display_name": "Python 3",
      "name": "python3"
    },
    "language_info": {
      "codemirror_mode": {
        "name": "ipython",
        "version": 3
      },
      "file_extension": ".py",
      "mimetype": "text/x-python",
      "name": "python",
      "nbconvert_exporter": "python",
      "pygments_lexer": "ipython3",
      "version": "3.7.12"
    },
    "papermill": {
      "default_parameters": {},
      "duration": 639.44733,
      "end_time": "2023-03-14T11:34:33.075342",
      "environment_variables": {},
      "exception": null,
      "input_path": "__notebook__.ipynb",
      "output_path": "__notebook__.ipynb",
      "parameters": {},
      "start_time": "2023-03-14T11:23:53.628012",
      "version": "2.4.0"
    },
    "colab": {
      "provenance": [],
      "gpuType": "T4"
    },
    "accelerator": "GPU"
  },
  "nbformat": 4,
  "nbformat_minor": 5
}